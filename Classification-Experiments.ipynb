{
 "cells": [
  {
   "cell_type": "code",
   "execution_count": 50,
   "metadata": {},
   "outputs": [],
   "source": [
    "import pandas as pd\n",
    "from io import StringIO\n",
    "from markdown import Markdown\n",
    "from sklearn.metrics import precision_score, accuracy_score, recall_score, confusion_matrix, ConfusionMatrixDisplay\n",
    "from sklearn import svm\n",
    "from sklearn.decomposition import PCA\n",
    "import numpy as np\n",
    "import matplotlib.pyplot as plt\n",
    "from collections import Counter\n",
    "import json\n",
    "\n",
    "# Syntactical Classification\n",
    "import spacy\n",
    "from spacy import displacy\n",
    "from spacy.matcher import Matcher, DependencyMatcher\n",
    "\n",
    "\n",
    "# GPT-3 Classification\n",
    "import openai\n",
    "from openai.embeddings_utils import get_embedding, cosine_similarity"
   ]
  },
  {
   "cell_type": "code",
   "execution_count": 2,
   "metadata": {},
   "outputs": [],
   "source": [
    "annotated_df = pd.read_csv(\"/Users/finnmacken/Desktop/Code/ChatStructure/annotated.csv\")\n",
    "annotated_df = annotated_df.dropna(subset=['label'])\n",
    "annotated_df = annotated_df[annotated_df.label != 'False#True']"
   ]
  },
  {
   "cell_type": "code",
   "execution_count": 3,
   "metadata": {},
   "outputs": [],
   "source": [
    "def unmark_element(element, stream=None):\n",
    "    if stream is None:\n",
    "        stream = StringIO()\n",
    "    if element.text:\n",
    "        stream.write(element.text)\n",
    "    for sub in element:\n",
    "        unmark_element(sub, stream)\n",
    "    if element.tail:\n",
    "        stream.write(element.tail)\n",
    "    return stream.getvalue()\n",
    "\n",
    "\n",
    "# patching Markdown\n",
    "Markdown.output_formats[\"plain\"] = unmark_element\n",
    "__md = Markdown(output_format=\"plain\")\n",
    "__md.stripTopLevelTags = False\n",
    "\n",
    "\n",
    "def unmark(text):\n",
    "    return __md.convert(text)\n",
    "\n",
    "annotated_df['text'] = annotated_df['text'].astype(str)\n",
    "annotated_df['text'] = annotated_df['text'].apply(unmark)"
   ]
  },
  {
   "cell_type": "code",
   "execution_count": 4,
   "metadata": {},
   "outputs": [
    {
     "name": "stdout",
     "output_type": "stream",
     "text": [
      "{'False#Unsure', 'Unsure', 'False', 'True#Unsure', 'True'}\n",
      "{'Request', 'Other', 'Unsure'}\n"
     ]
    }
   ],
   "source": [
    "print(set(annotated_df['label']))\n",
    "annotated_df['label'] = annotated_df['label'].map({\"False\": \"Other\", \"True\": \"Request\", \"False#Unsure\": \"Unsure\", \"True#Unsure\": \"Unsure\", \"Unsure\": \"Unsure\"})\n",
    "print(set(annotated_df['label']))"
   ]
  },
  {
   "cell_type": "markdown",
   "metadata": {},
   "source": [
    "# Utilities"
   ]
  },
  {
   "cell_type": "code",
   "execution_count": 5,
   "metadata": {},
   "outputs": [],
   "source": [
    "openai.api_key = env(\"API_KEY\")"
   ]
  },
  {
   "cell_type": "code",
   "execution_count": 38,
   "metadata": {},
   "outputs": [],
   "source": [
    "actual_list = []\n",
    "\n",
    "for label in annotated_df.label:\n",
    "    if label == \"Request\":\n",
    "        actual_list.append(1)\n",
    "    else:\n",
    "        actual_list.append(0)"
   ]
  },
  {
   "cell_type": "code",
   "execution_count": 41,
   "metadata": {},
   "outputs": [],
   "source": [
    "def generate_confusion_matrix(actual, predicted, title, unsure):\n",
    "    if unsure:    \n",
    "        cm = confusion_matrix(actual, predicted, labels=[\"Request\", \"Other\", \"Unsure\"])\n",
    "        display = ConfusionMatrixDisplay(confusion_matrix = cm, display_labels=[\"Request\", \"Other\", \"Unsure\"]).plot()\n",
    "        plt.title(f\"Confusion Matrix for Feature Requests ({title})\")\n",
    "    else:\n",
    "        cm = confusion_matrix(actual, predicted, labels=[\"Request\", \"Other\"])\n",
    "        display = ConfusionMatrixDisplay(confusion_matrix = cm, display_labels=[\"Request\", \"Other\"]).plot()\n",
    "        plt.title(f\"Confusion Matrix for Feature Requests ({title})\")"
   ]
  },
  {
   "cell_type": "markdown",
   "metadata": {},
   "source": [
    "# Generating Embeddings"
   ]
  },
  {
   "cell_type": "code",
   "execution_count": 54,
   "metadata": {},
   "outputs": [],
   "source": [
    "def abridge_function(x):\n",
    "    if len(x) > 7000:\n",
    "        return x[:7000]\n",
    "\n",
    "annotated_df['abridged_text'] = annotated_df['text'].apply(abridge_function)"
   ]
  },
  {
   "cell_type": "code",
   "execution_count": 55,
   "metadata": {},
   "outputs": [],
   "source": [
    "json_text = annotated_df['abridged_text'].apply(json.dumps)\n",
    "annotated_df[\"sim_embedding\"] = json_text.apply(lambda x: get_embedding(x, engine=\"text-similarity-babbage-001\"))"
   ]
  },
  {
   "cell_type": "code",
   "execution_count": 56,
   "metadata": {},
   "outputs": [],
   "source": [
    "annotated_df.to_csv(\"/Users/finnmacken/Desktop/Code/ChatStructure/ProductionTestOutputs/sim_embeddings_df\")"
   ]
  },
  {
   "cell_type": "markdown",
   "metadata": {},
   "source": [
    "# Syntactical Methods"
   ]
  },
  {
   "cell_type": "code",
   "execution_count": 13,
   "metadata": {},
   "outputs": [],
   "source": [
    "nlp = spacy.load(\"en_core_web_sm\")\n",
    "matcher = Matcher(nlp.vocab)"
   ]
  },
  {
   "cell_type": "code",
   "execution_count": 14,
   "metadata": {},
   "outputs": [],
   "source": [
    "auxBe = [\n",
    "    # this might be useful\n",
    "    # this could be [a] [very] helpful [feature]\n",
    "    [{\"POS\": \"AUX\"}, {\"POS\": \"ADV\", \"OP\": \"*\"}, {\"LOWER\": \"be\"}, {\"POS\": \"DET\"}, {\"POS\": \"ADV\", \"OP\": \"*\"}, {\"LOWER\": {\"IN\": [\"great\", \"excellent\", \"amazing\", \"nice\", \"good\", \"awesome\", \n",
    "                                                                                       \"helpful\", \"useful\", \"terrific\", \"cool\", 'like', 'love', 'appreciate', 'ideal', 'convenient'\n",
    "                                                                                      ]}}], \n",
    "]\n",
    "\n",
    "auxDesire = [\n",
    "    [{\"POS\": \"AUX\", \"TAG\": {\"IN\": [\"MD\", \"RB\"]}}, {\"POS\": \"ADV\", \"OP\": \"*\"}, {\"LOWER\": {\"IN\": ['like', 'love', 'appreciate', 'want']}}]\n",
    "]\n",
    "\n",
    "pronounDesire = [\n",
    "    [{\"POS\": \"PRON\"}, {\"LOWER\": {\"IN\": [\"really\", \"desperately\", \"just\", \"only\", \"often\", \"actually\"]}, \"OP\": \"*\"}, {\"LOWER\": {\"IN\": ['want', 'wish']}} ]\n",
    "]\n",
    "\n",
    "howAbout = [\n",
    "    [{\"LOWER\": \"how\"}, {\"LOWER\": 'about'}]\n",
    "]\n",
    "\n",
    "couldPronoun = [\n",
    "    # could we [also] do/be\n",
    "    [{\"LOWER\": {\"IN\": ['could', 'can']}}, {\"POS\": \"PRON\"}, {\"POS\": \"ADV\", \"OP\": \"*\"}, {\"POS\": {\"IN\": [\"VERB\", \"AUX\"]}}]\n",
    "]\n",
    "\n",
    "pronounCould = [\n",
    "    # we could [also] do/be\n",
    "    # which could be\n",
    "    # we can improve\n",
    "  [{\"POS\": {\"IN\": ['you', 'we']}}, {\"LOWER\": {\"IN\": ['could']}}, {\"POS\": \"ADV\", \"OP\": \"*\"}, {\"POS\": {\"IN\": [\"VERB\", \"AUX\"]}}]  \n",
    "]\n",
    "\n",
    "auxPossibility = [ \n",
    "    # would it be possible\n",
    "    # is it possible\n",
    "    [{\"POS\": \"AUX\"}, {\"POS\": \"PRON\"}, {\"POS\": \"AUX\", \"OP\": \"*\"}, {\"POS\": \"DET\", \"OP\": \"*\"}, {\"LOWER\": {\"IN\": ['possible', 'possibility', 'option']}}]\n",
    "]\n",
    "\n",
    "possibilityVerb = [\n",
    "    [{\"LOWER\": {\"IN\": ['possible', 'possibility']}}, {\"POS\": {\"IN\": [\"PART\", \"ADP\"]}}, {\"POS\": \"VERB\"}]\n",
    "]\n",
    "\n",
    "possibilityAdposition = [\n",
    "    # possibility to\n",
    "    [{\"LOWER\": {\"IN\": ['possible', 'possibility']}}, {\"POS\": \"ADP\"}]\n",
    "]\n",
    "\n",
    "\n",
    "noun_suggest_list = ['suggestion', 'idea', 'proposal', 'recommendation', 'submission', 'advice', 'proposition']\n",
    "\n",
    "pronounSuggest = [\n",
    "    # i suggest\n",
    "    [{\"POS\": \"PRON\"}, {\"LOWER\": {'IN': ['suggest', 'propose', 'recommend', 'advocate', 'move', 'encourage']}}]\n",
    "]\n",
    "\n",
    "pronounSuggestionAux = [\n",
    "    # my suggestion is\n",
    "    # the idea is\n",
    "    [{\"POS\": {\"IN\": [\"PRON\", \"DET\"]}}, {\"LEMMA\": {\"IN\": noun_suggest_list}}, {\"POS\": \"AUX\"}]\n",
    "]\n",
    "\n",
    "detNounSuggest = [\n",
    "    # a couple of ideas\n",
    "    # several suggestions\n",
    "   [{\"POS\": \"DET\", \"OP\": \"*\"}, {\"POS\": {\"IN\": ['NOUN', \"ADJ\"]}}, {\"POS\": \"ADP\", \"OP\": \"*\"}, {\"LEMMA\": {\"IN\": noun_suggest_list}}]\n",
    "]\n",
    "\n",
    "\n",
    "shouldVerb = [\n",
    "    # should [absolutely] be allowed to\n",
    "    # should [absolutely] be created\n",
    "    [{\"LOWER\": \"should\"}, {\"POS\": \"ADV\", \"OP\": \"*\"}, {\"POS\": \"AUX\", \"OP\": \"*\"}, {\"POS\": {\"IN\": [\"VERB\", \"ADJ\"]}}]\n",
    "]\n",
    "\n",
    "featureRequestPunct = [\n",
    "    [{\"LOWER\": {\"IN\": ['feature', 'request', 'suggestion']}}, {\"LOWER\": {\"IN\": [\":\", 'for']}}]\n",
    "]\n",
    "\n",
    "hopeRequest = [\n",
    "    [{\"LOWER\": \"hope\"}, {\"LOWER\": {\"IN\": ['you', 'that', 'we', 'there']}}]\n",
    "]\n",
    "\n",
    "whatIf = [\n",
    "    [{\"LOWER\": \"what\"}, {\"LOWER\": 'if'}]\n",
    "]\n",
    "\n",
    "plannedTo = [\n",
    "    [{\"LOWER\": {\"IN\": [\"is\", 'do', 'are']}}, {\"POS\": \"PRON\"}, {\"POS\": \"DET\", \"OP\": \"*\"}, {\"LEMMA\": \"plan\"}, {\"POS\": {\"IN\": ['PART', 'ADP']}}]\n",
    "]\n",
    "\n",
    "wayTo = [\n",
    "    [{\"LOWER\": \"is\"}, {\"LOWER\": 'there'}, {\"LOWER\": \"a\"}, {\"LOWER\": 'way'}, {\"LOWER\": \"to\"}]\n",
    "]\n",
    "\n",
    "\n",
    "matcher.add(\"AuxBe\", auxBe)\n",
    "\n",
    "matcher.add(\"AuxDesire\", auxDesire)\n",
    "matcher.add(\"PronounDesire\", pronounDesire)\n",
    "\n",
    "matcher.add(\"HowAbout\", howAbout)\n",
    "\n",
    "matcher.add(\"CouldPronoun\", couldPronoun)\n",
    "matcher.add(\"PronounCould\", pronounCould)\n",
    "\n",
    "matcher.add(\"AuxPossibility\", auxPossibility)\n",
    "matcher.add(\"PossibilityVerb\", possibilityVerb)\n",
    "matcher.add(\"PossibilityAdposition\", possibilityAdposition)\n",
    "\n",
    "matcher.add(\"PronounSuggest\", pronounSuggest)\n",
    "matcher.add(\"PronounSuggestionAux\", pronounSuggestionAux)\n",
    "matcher.add(\"DetNounSuggest\", detNounSuggest)\n",
    "\n",
    "matcher.add(\"ShouldVerb\", shouldVerb)\n",
    "\n",
    "matcher.add(\"FeatureRequestPunct\", featureRequestPunct)\n",
    "\n",
    "matcher.add(\"HopeRequest\", hopeRequest)\n",
    "\n",
    "matcher.add(\"WhatIf\", whatIf)\n",
    "\n",
    "matcher.add(\"PlannedTo\", plannedTo)\n",
    "matcher.add(\"WayTo\", wayTo)\n"
   ]
  },
  {
   "cell_type": "code",
   "execution_count": 22,
   "metadata": {},
   "outputs": [],
   "source": [
    "def test_doc(doc_index, doc):\n",
    "    matches = matcher(doc)\n",
    "    if len(matches) != 0:\n",
    "        print('\\033[92m' + f\"[{doc_index+1}] Match Found for: {doc.text}\" + '\\033[1m' + \" ( \" + \", \".join([nlp.vocab.strings[i[0]] for i in matches]) + \" )\" +  '\\033[0m' + '\\033[0m')\n",
    "        for idx, match in enumerate(matches):\n",
    "            print(f\"Match {idx+1}: {doc[match[1]: match[2]]} ({match[1]}, {match[2]})\")\n",
    "        return 1\n",
    "    else:\n",
    "        print('\\033[91m' + f\"[{doc_index+1}] No match found for: {doc.text}\" + '\\033[0m') \n",
    "        return 0"
   ]
  },
  {
   "cell_type": "code",
   "execution_count": 27,
   "metadata": {},
   "outputs": [],
   "source": [
    "def find_matches(df):\n",
    "    matches_list = []\n",
    "    docs = list(nlp.pipe(df.text))\n",
    "    for idx, doc in enumerate(docs):\n",
    "        matches_list.append(test_doc(idx, doc))\n",
    "    return matches_list"
   ]
  },
  {
   "cell_type": "code",
   "execution_count": 28,
   "metadata": {},
   "outputs": [
    {
     "data": {
      "text/html": [
       "<div>\n",
       "<style scoped>\n",
       "    .dataframe tbody tr th:only-of-type {\n",
       "        vertical-align: middle;\n",
       "    }\n",
       "\n",
       "    .dataframe tbody tr th {\n",
       "        vertical-align: top;\n",
       "    }\n",
       "\n",
       "    .dataframe thead th {\n",
       "        text-align: right;\n",
       "    }\n",
       "</style>\n",
       "<table border=\"1\" class=\"dataframe\">\n",
       "  <thead>\n",
       "    <tr style=\"text-align: right;\">\n",
       "      <th></th>\n",
       "      <th>id</th>\n",
       "      <th>text</th>\n",
       "      <th>created_at</th>\n",
       "      <th>author</th>\n",
       "      <th>reference</th>\n",
       "      <th>embeds</th>\n",
       "      <th>mentions</th>\n",
       "      <th>attachments</th>\n",
       "      <th>label</th>\n",
       "    </tr>\n",
       "  </thead>\n",
       "  <tbody>\n",
       "    <tr>\n",
       "      <th>0</th>\n",
       "      <td>1019191342687072276</td>\n",
       "      <td>!history</td>\n",
       "      <td>2022-09-13 10:22:31.756000+00:00</td>\n",
       "      <td>finn</td>\n",
       "      <td>NaN</td>\n",
       "      <td>[]</td>\n",
       "      <td>[]</td>\n",
       "      <td>[]</td>\n",
       "      <td>Other</td>\n",
       "    </tr>\n",
       "    <tr>\n",
       "      <th>1</th>\n",
       "      <td>1019075643096432781</td>\n",
       "      <td>thanks for the feedback! i'll discuss it with ...</td>\n",
       "      <td>2022-09-13 02:42:46.824000+00:00</td>\n",
       "      <td>Alan Chan</td>\n",
       "      <td>&lt;MessageReference message_id=10190620301766164...</td>\n",
       "      <td>[]</td>\n",
       "      <td>[&lt;User id=174103652556996608 name='robotic_sca...</td>\n",
       "      <td>[]</td>\n",
       "      <td>Other</td>\n",
       "    </tr>\n",
       "    <tr>\n",
       "      <th>2</th>\n",
       "      <td>1019062030176616458</td>\n",
       "      <td>a couple feature requests:\\n\\n\\nit would be fa...</td>\n",
       "      <td>2022-09-13 01:48:41.251000+00:00</td>\n",
       "      <td>robotic_scarab</td>\n",
       "      <td>NaN</td>\n",
       "      <td>[]</td>\n",
       "      <td>[]</td>\n",
       "      <td>[&lt;Attachment id=1019062029572649100 filename='...</td>\n",
       "      <td>Request</td>\n",
       "    </tr>\n",
       "    <tr>\n",
       "      <th>3</th>\n",
       "      <td>1019003148720951346</td>\n",
       "      <td>yep, when letting go of the connection arrow i...</td>\n",
       "      <td>2022-09-12 21:54:42.818000+00:00</td>\n",
       "      <td>maxlinworm</td>\n",
       "      <td>&lt;MessageReference message_id=10189863575924450...</td>\n",
       "      <td>[]</td>\n",
       "      <td>[&lt;User id=710847265581039616 name='Sams_Here' ...</td>\n",
       "      <td>[]</td>\n",
       "      <td>Request</td>\n",
       "    </tr>\n",
       "    <tr>\n",
       "      <th>4</th>\n",
       "      <td>1018986357592445019</td>\n",
       "      <td>if i may clarify, you want to create a new car...</td>\n",
       "      <td>2022-09-12 20:47:59.501000+00:00</td>\n",
       "      <td>Sams_Here</td>\n",
       "      <td>&lt;MessageReference message_id=10189826926557266...</td>\n",
       "      <td>[]</td>\n",
       "      <td>[&lt;User id=776122030230732820 name='maxlinworm'...</td>\n",
       "      <td>[]</td>\n",
       "      <td>Request</td>\n",
       "    </tr>\n",
       "  </tbody>\n",
       "</table>\n",
       "</div>"
      ],
      "text/plain": [
       "                    id                                               text  \\\n",
       "0  1019191342687072276                                           !history   \n",
       "1  1019075643096432781  thanks for the feedback! i'll discuss it with ...   \n",
       "2  1019062030176616458  a couple feature requests:\\n\\n\\nit would be fa...   \n",
       "3  1019003148720951346  yep, when letting go of the connection arrow i...   \n",
       "4  1018986357592445019  if i may clarify, you want to create a new car...   \n",
       "\n",
       "                         created_at          author  \\\n",
       "0  2022-09-13 10:22:31.756000+00:00            finn   \n",
       "1  2022-09-13 02:42:46.824000+00:00       Alan Chan   \n",
       "2  2022-09-13 01:48:41.251000+00:00  robotic_scarab   \n",
       "3  2022-09-12 21:54:42.818000+00:00      maxlinworm   \n",
       "4  2022-09-12 20:47:59.501000+00:00       Sams_Here   \n",
       "\n",
       "                                           reference embeds  \\\n",
       "0                                                NaN     []   \n",
       "1  <MessageReference message_id=10190620301766164...     []   \n",
       "2                                                NaN     []   \n",
       "3  <MessageReference message_id=10189863575924450...     []   \n",
       "4  <MessageReference message_id=10189826926557266...     []   \n",
       "\n",
       "                                            mentions  \\\n",
       "0                                                 []   \n",
       "1  [<User id=174103652556996608 name='robotic_sca...   \n",
       "2                                                 []   \n",
       "3  [<User id=710847265581039616 name='Sams_Here' ...   \n",
       "4  [<User id=776122030230732820 name='maxlinworm'...   \n",
       "\n",
       "                                         attachments    label  \n",
       "0                                                 []    Other  \n",
       "1                                                 []    Other  \n",
       "2  [<Attachment id=1019062029572649100 filename='...  Request  \n",
       "3                                                 []  Request  \n",
       "4                                                 []  Request  "
      ]
     },
     "execution_count": 28,
     "metadata": {},
     "output_type": "execute_result"
    }
   ],
   "source": [
    "annotated_df.head()"
   ]
  },
  {
   "cell_type": "code",
   "execution_count": null,
   "metadata": {},
   "outputs": [],
   "source": [
    "matches_list = find_matches(annotated_df)"
   ]
  },
  {
   "cell_type": "code",
   "execution_count": null,
   "metadata": {},
   "outputs": [],
   "source": [
    "matches_list"
   ]
  },
  {
   "cell_type": "code",
   "execution_count": 34,
   "metadata": {},
   "outputs": [],
   "source": []
  },
  {
   "cell_type": "code",
   "execution_count": 40,
   "metadata": {},
   "outputs": [
    {
     "name": "stdout",
     "output_type": "stream",
     "text": [
      "Precision: 0.7567567567567568\n",
      "Accuracy: 0.7132018209408194\n",
      "Recall: 0.47058823529411764\n"
     ]
    }
   ],
   "source": [
    "print(\"Precision:\", precision_score(actual_list, matches_list))\n",
    "print(\"Accuracy:\", accuracy_score(actual_list, matches_list))\n",
    "print(\"Recall:\", recall_score(actual_list, matches_list))\n"
   ]
  },
  {
   "cell_type": "code",
   "execution_count": 54,
   "metadata": {},
   "outputs": [
    {
     "data": {
      "image/png": "[encoded data removed]",
      "text/plain": [
       "<Figure size 432x288 with 2 Axes>"
      ]
     },
     "metadata": {
      "needs_background": "light"
     },
     "output_type": "display_data"
    }
   ],
   "source": [
    "label_map = {\n",
    "    1: \"Request\",\n",
    "    0: \"Other\"\n",
    "}\n",
    "\n",
    "actual_list_labelled = [label_map[i] for i in actual_list]\n",
    "matches_list_labelled = [label_map[i] for i in matches_list]\n",
    "\n",
    "generate_confusion_matrix(actual_list_labelled, matches_list_labelled, \"Syntactical Classifier\", unsure=False)"
   ]
  },
  {
   "cell_type": "markdown",
   "metadata": {},
   "source": [
    "# Support Vector Machines"
   ]
  },
  {
   "cell_type": "code",
   "execution_count": 57,
   "metadata": {},
   "outputs": [],
   "source": [
    "# use pca to decrease dimension size\n",
    "pca = PCA(n_components=200)"
   ]
  },
  {
   "cell_type": "code",
   "execution_count": 58,
   "metadata": {},
   "outputs": [
    {
     "data": {
      "text/html": [
       "<div>\n",
       "<style scoped>\n",
       "    .dataframe tbody tr th:only-of-type {\n",
       "        vertical-align: middle;\n",
       "    }\n",
       "\n",
       "    .dataframe tbody tr th {\n",
       "        vertical-align: top;\n",
       "    }\n",
       "\n",
       "    .dataframe thead th {\n",
       "        text-align: right;\n",
       "    }\n",
       "</style>\n",
       "<table border=\"1\" class=\"dataframe\">\n",
       "  <thead>\n",
       "    <tr style=\"text-align: right;\">\n",
       "      <th></th>\n",
       "      <th>id</th>\n",
       "      <th>text</th>\n",
       "      <th>created_at</th>\n",
       "      <th>author</th>\n",
       "      <th>reference</th>\n",
       "      <th>embeds</th>\n",
       "      <th>mentions</th>\n",
       "      <th>attachments</th>\n",
       "      <th>label</th>\n",
       "      <th>abridged_text</th>\n",
       "      <th>sim_embedding</th>\n",
       "    </tr>\n",
       "  </thead>\n",
       "  <tbody>\n",
       "    <tr>\n",
       "      <th>0</th>\n",
       "      <td>1019191342687072276</td>\n",
       "      <td>!history</td>\n",
       "      <td>2022-09-13 10:22:31.756000+00:00</td>\n",
       "      <td>finn</td>\n",
       "      <td>NaN</td>\n",
       "      <td>[]</td>\n",
       "      <td>[]</td>\n",
       "      <td>[]</td>\n",
       "      <td>Other</td>\n",
       "      <td>None</td>\n",
       "      <td>[0.007719679735600948, -0.017233144491910934, ...</td>\n",
       "    </tr>\n",
       "    <tr>\n",
       "      <th>1</th>\n",
       "      <td>1019075643096432781</td>\n",
       "      <td>thanks for the feedback! i'll discuss it with ...</td>\n",
       "      <td>2022-09-13 02:42:46.824000+00:00</td>\n",
       "      <td>Alan Chan</td>\n",
       "      <td>&lt;MessageReference message_id=10190620301766164...</td>\n",
       "      <td>[]</td>\n",
       "      <td>[&lt;User id=174103652556996608 name='robotic_sca...</td>\n",
       "      <td>[]</td>\n",
       "      <td>Other</td>\n",
       "      <td>None</td>\n",
       "      <td>[0.007682556752115488, -0.017111513763666153, ...</td>\n",
       "    </tr>\n",
       "    <tr>\n",
       "      <th>2</th>\n",
       "      <td>1019062030176616458</td>\n",
       "      <td>a couple feature requests:\\n\\n\\nit would be fa...</td>\n",
       "      <td>2022-09-13 01:48:41.251000+00:00</td>\n",
       "      <td>robotic_scarab</td>\n",
       "      <td>NaN</td>\n",
       "      <td>[]</td>\n",
       "      <td>[]</td>\n",
       "      <td>[&lt;Attachment id=1019062029572649100 filename='...</td>\n",
       "      <td>Request</td>\n",
       "      <td>None</td>\n",
       "      <td>[0.007719679735600948, -0.017233144491910934, ...</td>\n",
       "    </tr>\n",
       "    <tr>\n",
       "      <th>3</th>\n",
       "      <td>1019003148720951346</td>\n",
       "      <td>yep, when letting go of the connection arrow i...</td>\n",
       "      <td>2022-09-12 21:54:42.818000+00:00</td>\n",
       "      <td>maxlinworm</td>\n",
       "      <td>&lt;MessageReference message_id=10189863575924450...</td>\n",
       "      <td>[]</td>\n",
       "      <td>[&lt;User id=710847265581039616 name='Sams_Here' ...</td>\n",
       "      <td>[]</td>\n",
       "      <td>Request</td>\n",
       "      <td>None</td>\n",
       "      <td>[0.007719679735600948, -0.017233144491910934, ...</td>\n",
       "    </tr>\n",
       "    <tr>\n",
       "      <th>4</th>\n",
       "      <td>1018986357592445019</td>\n",
       "      <td>if i may clarify, you want to create a new car...</td>\n",
       "      <td>2022-09-12 20:47:59.501000+00:00</td>\n",
       "      <td>Sams_Here</td>\n",
       "      <td>&lt;MessageReference message_id=10189826926557266...</td>\n",
       "      <td>[]</td>\n",
       "      <td>[&lt;User id=776122030230732820 name='maxlinworm'...</td>\n",
       "      <td>[]</td>\n",
       "      <td>Request</td>\n",
       "      <td>None</td>\n",
       "      <td>[0.007719679735600948, -0.017233144491910934, ...</td>\n",
       "    </tr>\n",
       "  </tbody>\n",
       "</table>\n",
       "</div>"
      ],
      "text/plain": [
       "                    id                                               text  \\\n",
       "0  1019191342687072276                                           !history   \n",
       "1  1019075643096432781  thanks for the feedback! i'll discuss it with ...   \n",
       "2  1019062030176616458  a couple feature requests:\\n\\n\\nit would be fa...   \n",
       "3  1019003148720951346  yep, when letting go of the connection arrow i...   \n",
       "4  1018986357592445019  if i may clarify, you want to create a new car...   \n",
       "\n",
       "                         created_at          author  \\\n",
       "0  2022-09-13 10:22:31.756000+00:00            finn   \n",
       "1  2022-09-13 02:42:46.824000+00:00       Alan Chan   \n",
       "2  2022-09-13 01:48:41.251000+00:00  robotic_scarab   \n",
       "3  2022-09-12 21:54:42.818000+00:00      maxlinworm   \n",
       "4  2022-09-12 20:47:59.501000+00:00       Sams_Here   \n",
       "\n",
       "                                           reference embeds  \\\n",
       "0                                                NaN     []   \n",
       "1  <MessageReference message_id=10190620301766164...     []   \n",
       "2                                                NaN     []   \n",
       "3  <MessageReference message_id=10189863575924450...     []   \n",
       "4  <MessageReference message_id=10189826926557266...     []   \n",
       "\n",
       "                                            mentions  \\\n",
       "0                                                 []   \n",
       "1  [<User id=174103652556996608 name='robotic_sca...   \n",
       "2                                                 []   \n",
       "3  [<User id=710847265581039616 name='Sams_Here' ...   \n",
       "4  [<User id=776122030230732820 name='maxlinworm'...   \n",
       "\n",
       "                                         attachments    label abridged_text  \\\n",
       "0                                                 []    Other          None   \n",
       "1                                                 []    Other          None   \n",
       "2  [<Attachment id=1019062029572649100 filename='...  Request          None   \n",
       "3                                                 []  Request          None   \n",
       "4                                                 []  Request          None   \n",
       "\n",
       "                                       sim_embedding  \n",
       "0  [0.007719679735600948, -0.017233144491910934, ...  \n",
       "1  [0.007682556752115488, -0.017111513763666153, ...  \n",
       "2  [0.007719679735600948, -0.017233144491910934, ...  \n",
       "3  [0.007719679735600948, -0.017233144491910934, ...  \n",
       "4  [0.007719679735600948, -0.017233144491910934, ...  "
      ]
     },
     "execution_count": 58,
     "metadata": {},
     "output_type": "execute_result"
    }
   ],
   "source": [
    "annotated_df.head()"
   ]
  },
  {
   "cell_type": "code",
   "execution_count": 59,
   "metadata": {},
   "outputs": [],
   "source": [
    "index_split = 600\n",
    "\n",
    "clf = svm.SVC()\n",
    "X = annotated_df['sim_embedding'][:index_split]\n",
    "y = actual_list[:index_split]\n",
    "\n",
    "X_test = annotated_df['sim_embedding'][index_split:]\n",
    "y_test = actual_list[index_split:]"
   ]
  },
  {
   "cell_type": "code",
   "execution_count": 60,
   "metadata": {},
   "outputs": [],
   "source": [
    "X_reduced = pca.fit(X)\n",
    "X_test_reduced = pca.fit(X_test)"
   ]
  },
  {
   "cell_type": "code",
   "execution_count": null,
   "metadata": {},
   "outputs": [],
   "source": [
    "clf.fit(X_reduced, y)"
   ]
  },
  {
   "cell_type": "code",
   "execution_count": null,
   "metadata": {},
   "outputs": [],
   "source": [
    "y_pred = clf.predict(X_test_reduced)"
   ]
  },
  {
   "cell_type": "markdown",
   "metadata": {},
   "source": []
  },
  {
   "cell_type": "code",
   "execution_count": null,
   "metadata": {},
   "outputs": [],
   "source": [
    "print(\"Precision:\", precision_score(y_test, y_pred))\n",
    "print(\"Accuracy:\", accuracy_score(y_test, y_pred))\n",
    "print(\"Recall:\", recall_score(y_test, y_pred))\n"
   ]
  },
  {
   "cell_type": "code",
   "execution_count": null,
   "metadata": {},
   "outputs": [],
   "source": [
    "generate_confusion_matrix(y_test, y_pred, \"SVM Classifier\", unsure=False)"
   ]
  },
  {
   "cell_type": "markdown",
   "metadata": {},
   "source": [
    "# GPT-3"
   ]
  },
  {
   "cell_type": "code",
   "execution_count": 16,
   "metadata": {},
   "outputs": [],
   "source": [
    "def generate_response(x):  \n",
    "    # personal fine-tuned model trained to return \"Request\", \"Other\" or \"Unsure\"\n",
    "    gpt_model = \"text-davinci-002\"\n",
    "    res = openai.Completion.create(model=gpt_model, \n",
    "                                prompt= f\"Tell me whether this message contains a feature request by answering Yes or No. Message: {x}. Contains feature request:\", max_tokens=3, temperature=0)\n",
    "    return res['choices'][0]['text']"
   ]
  },
  {
   "cell_type": "code",
   "execution_count": 18,
   "metadata": {},
   "outputs": [
    {
     "name": "stdout",
     "output_type": "stream",
     "text": [
      "0                                               !history\n",
      "1      thanks for the feedback! i'll discuss it with ...\n",
      "2      a couple feature requests:\\n\\n\\nit would be fa...\n",
      "3      yep, when letting go of the connection arrow i...\n",
      "4      if i may clarify, you want to create a new car...\n",
      "                             ...                        \n",
      "495                              can images be uploaded?\n",
      "496                       thanks for the recommendation!\n",
      "497    https://www.toketaware.com/ithoughts-howto-con...\n",
      "498    when a card is folded, can a symbol or icon be...\n",
      "499    i recently used a software called prodrafts on...\n",
      "Name: text, Length: 500, dtype: object\n"
     ]
    },
    {
     "data": {
      "text/plain": [
       "' No'"
      ]
     },
     "execution_count": 18,
     "metadata": {},
     "output_type": "execute_result"
    }
   ],
   "source": [
    "test = annotated_df['text'][500]\n",
    "print(test)\n",
    "generate_response(test)"
   ]
  },
  {
   "cell_type": "code",
   "execution_count": 20,
   "metadata": {},
   "outputs": [],
   "source": [
    "test_df = annotated_df.text[:500]"
   ]
  },
  {
   "cell_type": "code",
   "execution_count": 21,
   "metadata": {},
   "outputs": [],
   "source": [
    "predictions = test_df.apply(lambda x: generate_response(x))"
   ]
  },
  {
   "cell_type": "code",
   "execution_count": 30,
   "metadata": {},
   "outputs": [],
   "source": [
    "predictions = predictions.apply(lambda x: x.strip())\n",
    "predictions = predictions.apply(lambda x: x.replace(\"\\n\", \"\"))"
   ]
  },
  {
   "cell_type": "code",
   "execution_count": null,
   "metadata": {},
   "outputs": [],
   "source": [
    "# annotated_df['davinci_prediction'] = annotated_df.text.apply(lambda x: generate_response(x))"
   ]
  },
  {
   "cell_type": "code",
   "execution_count": 43,
   "metadata": {},
   "outputs": [],
   "source": [
    "predictions_array = predictions.map({\"Yes\": 1, \"No\": 0})"
   ]
  },
  {
   "cell_type": "code",
   "execution_count": 45,
   "metadata": {},
   "outputs": [
    {
     "name": "stdout",
     "output_type": "stream",
     "text": [
      "Precision: 0.8032786885245902\n",
      "Accuracy: 0.834\n",
      "Recall: 0.8484848484848485\n"
     ]
    }
   ],
   "source": [
    "print(\"Precision:\", precision_score(actual_list[:500], predictions_array))\n",
    "print(\"Accuracy:\", accuracy_score(actual_list[:500], predictions_array))\n",
    "print(\"Recall:\", recall_score(actual_list[:500], predictions_array))\n"
   ]
  },
  {
   "cell_type": "code",
   "execution_count": 48,
   "metadata": {},
   "outputs": [
    {
     "data": {
      "image/png": "[encoded data removed]",
      "text/plain": [
       "<Figure size 432x288 with 2 Axes>"
      ]
     },
     "metadata": {
      "needs_background": "light"
     },
     "output_type": "display_data"
    }
   ],
   "source": [
    "mapping_dict = {0: \"Other\", 1: \"Request\"}\n",
    "generate_confusion_matrix([mapping_dict[i] for i in actual_list[:500]], [mapping_dict[i] for i in predictions_array], \"GPT\", unsure=False)"
   ]
  },
  {
   "cell_type": "markdown",
   "metadata": {},
   "source": [
    "# GPT-3 (Fine-Tuned)"
   ]
  },
  {
   "cell_type": "markdown",
   "metadata": {},
   "source": [
    "## Generating the Fine-Tuned Model"
   ]
  },
  {
   "cell_type": "code",
   "execution_count": null,
   "metadata": {},
   "outputs": [],
   "source": [
    "annotated_df.to_json('feature-requests.jsonl', orient='records', lines=True)\n",
    "\n",
    "! openai tools fine_tunes.prepare_data -f feature-requests.jsonl -q"
   ]
  },
  {
   "cell_type": "code",
   "execution_count": null,
   "metadata": {},
   "outputs": [],
   "source": [
    "#os.environ[\"OPENAI_API_KEY\"] = *******\n",
    "#! export OPENAI_API_KEY=*******\n",
    "#! openai api fine_tunes.create -t \"feature-requests_prepared_train.jsonl\" -m ada\n",
    "\n",
    "# ^ run this in terminal to deal with the interactive prompts\n"
   ]
  },
  {
   "cell_type": "markdown",
   "metadata": {},
   "source": [
    "## Applying the Fine Tuned Model"
   ]
  },
  {
   "cell_type": "code",
   "execution_count": null,
   "metadata": {},
   "outputs": [],
   "source": [
    "\n",
    "def generate_response(x):  \n",
    "    # personal fine-tuned model trained to return \"Request\", \"Other\" or \"Unsure\"\n",
    "    ft_model = \"ada:ft-personal-2022-09-30-15-57-04\"\n",
    "    res = openai.Completion.create(model=ft_model, \n",
    "                                prompt= f'{x}\\n\\n###\\n\\n', max_tokens=1, temperature=0)\n",
    "    return res['choices'][0]['text']\n",
    "\n",
    "generate_response(200)"
   ]
  },
  {
   "cell_type": "code",
   "execution_count": null,
   "metadata": {},
   "outputs": [],
   "source": [
    "def classify_df(df):\n",
    "    df['prediction'] = df['text'].apply(lambda x: generate_response(x))\n",
    "    return df"
   ]
  },
  {
   "cell_type": "code",
   "execution_count": null,
   "metadata": {},
   "outputs": [],
   "source": [
    "labelled_df = classify_df(annotated_df)"
   ]
  },
  {
   "cell_type": "code",
   "execution_count": null,
   "metadata": {},
   "outputs": [],
   "source": [
    "labelled_df['prediction'] = labelled_df['prediction'].apply(lambda x: x.strip())"
   ]
  },
  {
   "cell_type": "code",
   "execution_count": 51,
   "metadata": {},
   "outputs": [],
   "source": [
    "# Downloading from calculated data\n",
    "# labelled_df = pd.read_csv(\"/Users/finnmacken/Desktop/Code/ChatStructure/ProductionTestOutputs/extracted_df\")\n",
    "# labelled_df.head()"
   ]
  },
  {
   "cell_type": "code",
   "execution_count": 62,
   "metadata": {},
   "outputs": [
    {
     "data": {
      "text/plain": [
       "Counter({'Request': 704, 'Other': 153, 'Unsure': 3})"
      ]
     },
     "execution_count": 62,
     "metadata": {},
     "output_type": "execute_result"
    }
   ],
   "source": [
    "actual_list = labelled_df.label\n",
    "matches_list = labelled_df.prediction\n",
    "\n",
    "label_map = {\n",
    "    \"Request\": 1,\n",
    "    \"Other\": 0,\n",
    "    \"Unsure\": 0\n",
    "}\n",
    "\n",
    "actual_list = [label_map[i] for i in actual_list]\n",
    "matches_list = [label_map[i] for i in matches_list]\n",
    "\n",
    "print(\"Precision:\", precision_score(actual_list, matches_list))\n",
    "print(\"Accuracy:\", accuracy_score(actual_list, matches_list))\n",
    "print(\"Recall:\", recall_score(actual_list, matches_list))\n"
   ]
  },
  {
   "cell_type": "code",
   "execution_count": null,
   "metadata": {},
   "outputs": [],
   "source": [
    "label_map = {\n",
    "    1: \"Request\",\n",
    "    0: \"Other\"\n",
    "}\n",
    "\n",
    "actual_list_labelled = [label_map[i] for i in actual_list]\n",
    "matches_list_labelled = [label_map[i] for i in matches_list]\n",
    "\n",
    "generate_confusion_matrix(labelled_df.label, labelled_df.prediction, \"GPT-3 (Fine-Tuned)\", unsure=False)"
   ]
  },
  {
   "cell_type": "markdown",
   "metadata": {},
   "source": [
    "# Clustering"
   ]
  },
  {
   "cell_type": "markdown",
   "metadata": {},
   "source": []
  },
  {
   "cell_type": "markdown",
   "metadata": {},
   "source": [
    "# Saving Data"
   ]
  },
  {
   "cell_type": "code",
   "execution_count": null,
   "metadata": {},
   "outputs": [],
   "source": [
    "annotated_df.to_csv(\"/Users/finnmacken/Desktop/Code/ChatStructure/ProductionTestOutputs/classification_output_df\")"
   ]
  }
 ],
 "metadata": {
  "kernelspec": {
   "display_name": "Python 3.9.15 64-bit",
   "language": "python",
   "name": "python3"
  },
  "language_info": {
   "codemirror_mode": {
    "name": "ipython",
    "version": 3
   },
   "file_extension": ".py",
   "mimetype": "text/x-python",
   "name": "python",
   "nbconvert_exporter": "python",
   "pygments_lexer": "ipython3",
   "version": "3.9.15"
  },
  "orig_nbformat": 4,
  "vscode": {
   "interpreter": {
    "hash": "a665b5d41d17b532ea9890333293a1b812fa0b73c9c25c950b3cedf1bebd0438"
   }
  }
 },
 "nbformat": 4,
 "nbformat_minor": 2
}
