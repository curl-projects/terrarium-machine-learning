{
 "cells": [
  {
   "cell_type": "markdown",
   "metadata": {},
   "source": [
    "# Imports"
   ]
  },
  {
   "cell_type": "code",
   "execution_count": null,
   "metadata": {},
   "outputs": [],
   "source": [
    "! pip install plotly\n",
    "! pip install hdbscan\n",
    "! pip install seaborn\n",
    "! pip install pinecone-client\n",
    "! pip install openai"
   ]
  },
  {
   "cell_type": "code",
   "execution_count": 4,
   "metadata": {},
   "outputs": [],
   "source": [
    "import openai\n",
    "from openai.embeddings_utils import get_embedding, cosine_similarity\n",
    "import os\n",
    "import pandas as pd\n",
    "from markdown import Markdown\n",
    "from io import StringIO\n",
    "import spacy\n",
    "from sklearn.metrics import confusion_matrix, ConfusionMatrixDisplay\n",
    "from sklearn.manifold import TSNE\n",
    "from sklearn.decomposition import PCA\n",
    "from sklearn.cluster import KMeans\n",
    "from sklearn.metrics.pairwise import cosine_similarity as sk_cosine_similarity\n",
    "import matplotlib.pyplot as plt\n",
    "import seaborn as sns\n",
    "import numpy as np\n",
    "import json\n",
    "import hdbscan\n",
    "from collections import Counter\n",
    "import pinecone\n",
    "from tqdm import tqdm\n",
    "import itertools\n",
    "from ast import literal_eval\n",
    "from prisma import Prisma"
   ]
  },
  {
   "cell_type": "markdown",
   "metadata": {},
   "source": [
    "# Data Import"
   ]
  },
  {
   "cell_type": "code",
   "execution_count": 14,
   "metadata": {},
   "outputs": [],
   "source": [
    "annotated_df = pd.read_csv(\"/Users/finnmacken/Desktop/Code/ChatStructure/annotated.csv\")\n",
    "annotated_df = annotated_df.dropna(subset=['label'])\n",
    "annotated_df = annotated_df[annotated_df.label != 'False#True']"
   ]
  },
  {
   "cell_type": "code",
   "execution_count": 16,
   "metadata": {},
   "outputs": [],
   "source": [
    "def unmark_element(element, stream=None):\n",
    "    if stream is None:\n",
    "        stream = StringIO()\n",
    "    if element.text:\n",
    "        stream.write(element.text)\n",
    "    for sub in element:\n",
    "        unmark_element(sub, stream)\n",
    "    if element.tail:\n",
    "        stream.write(element.tail)\n",
    "    return stream.getvalue()\n",
    "\n",
    "\n",
    "# patching Markdown\n",
    "Markdown.output_formats[\"plain\"] = unmark_element\n",
    "__md = Markdown(output_format=\"plain\")\n",
    "__md.stripTopLevelTags = False\n",
    "\n",
    "\n",
    "def unmark(text):\n",
    "    return __md.convert(text)\n",
    "\n",
    "annotated_df['text'] = annotated_df['text'].astype(str)\n",
    "annotated_df['text'] = annotated_df['text'].apply(unmark)"
   ]
  },
  {
   "cell_type": "code",
   "execution_count": 17,
   "metadata": {},
   "outputs": [
    {
     "name": "stdout",
     "output_type": "stream",
     "text": [
      "{'Unsure', 'True#Unsure', 'False#Unsure', 'True', 'False'}\n",
      "{'Unsure', 'Other', 'Request'}\n"
     ]
    }
   ],
   "source": [
    "print(set(annotated_df['label']))\n",
    "annotated_df['label'] = annotated_df['label'].map({\"False\": \"Other\", \"True\": \"Request\", \"False#Unsure\": \"Unsure\", \"True#Unsure\": \"Unsure\", \"Unsure\": \"Unsure\"})\n",
    "print(set(annotated_df['label']))"
   ]
  },
  {
   "cell_type": "code",
   "execution_count": 18,
   "metadata": {},
   "outputs": [
    {
     "data": {
      "text/html": [
       "<div>\n",
       "<style scoped>\n",
       "    .dataframe tbody tr th:only-of-type {\n",
       "        vertical-align: middle;\n",
       "    }\n",
       "\n",
       "    .dataframe tbody tr th {\n",
       "        vertical-align: top;\n",
       "    }\n",
       "\n",
       "    .dataframe thead th {\n",
       "        text-align: right;\n",
       "    }\n",
       "</style>\n",
       "<table border=\"1\" class=\"dataframe\">\n",
       "  <thead>\n",
       "    <tr style=\"text-align: right;\">\n",
       "      <th></th>\n",
       "      <th>id</th>\n",
       "      <th>text</th>\n",
       "      <th>created_at</th>\n",
       "      <th>author</th>\n",
       "      <th>reference</th>\n",
       "      <th>embeds</th>\n",
       "      <th>mentions</th>\n",
       "      <th>attachments</th>\n",
       "      <th>label</th>\n",
       "    </tr>\n",
       "  </thead>\n",
       "  <tbody>\n",
       "    <tr>\n",
       "      <th>0</th>\n",
       "      <td>1019191342687072276</td>\n",
       "      <td>!history</td>\n",
       "      <td>2022-09-13 10:22:31.756000+00:00</td>\n",
       "      <td>finn</td>\n",
       "      <td>NaN</td>\n",
       "      <td>[]</td>\n",
       "      <td>[]</td>\n",
       "      <td>[]</td>\n",
       "      <td>Other</td>\n",
       "    </tr>\n",
       "    <tr>\n",
       "      <th>1</th>\n",
       "      <td>1019075643096432781</td>\n",
       "      <td>thanks for the feedback! i'll discuss it with ...</td>\n",
       "      <td>2022-09-13 02:42:46.824000+00:00</td>\n",
       "      <td>Alan Chan</td>\n",
       "      <td>&lt;MessageReference message_id=10190620301766164...</td>\n",
       "      <td>[]</td>\n",
       "      <td>[&lt;User id=174103652556996608 name='robotic_sca...</td>\n",
       "      <td>[]</td>\n",
       "      <td>Other</td>\n",
       "    </tr>\n",
       "    <tr>\n",
       "      <th>2</th>\n",
       "      <td>1019062030176616458</td>\n",
       "      <td>a couple feature requests:\\nit would be fantas...</td>\n",
       "      <td>2022-09-13 01:48:41.251000+00:00</td>\n",
       "      <td>robotic_scarab</td>\n",
       "      <td>NaN</td>\n",
       "      <td>[]</td>\n",
       "      <td>[]</td>\n",
       "      <td>[&lt;Attachment id=1019062029572649100 filename='...</td>\n",
       "      <td>Request</td>\n",
       "    </tr>\n",
       "    <tr>\n",
       "      <th>3</th>\n",
       "      <td>1019003148720951346</td>\n",
       "      <td>yep, when letting go of the connection arrow i...</td>\n",
       "      <td>2022-09-12 21:54:42.818000+00:00</td>\n",
       "      <td>maxlinworm</td>\n",
       "      <td>&lt;MessageReference message_id=10189863575924450...</td>\n",
       "      <td>[]</td>\n",
       "      <td>[&lt;User id=710847265581039616 name='Sams_Here' ...</td>\n",
       "      <td>[]</td>\n",
       "      <td>Request</td>\n",
       "    </tr>\n",
       "    <tr>\n",
       "      <th>4</th>\n",
       "      <td>1018986357592445019</td>\n",
       "      <td>if i may clarify, you want to create a new car...</td>\n",
       "      <td>2022-09-12 20:47:59.501000+00:00</td>\n",
       "      <td>Sams_Here</td>\n",
       "      <td>&lt;MessageReference message_id=10189826926557266...</td>\n",
       "      <td>[]</td>\n",
       "      <td>[&lt;User id=776122030230732820 name='maxlinworm'...</td>\n",
       "      <td>[]</td>\n",
       "      <td>Request</td>\n",
       "    </tr>\n",
       "  </tbody>\n",
       "</table>\n",
       "</div>"
      ],
      "text/plain": [
       "                    id                                               text  \\\n",
       "0  1019191342687072276                                           !history   \n",
       "1  1019075643096432781  thanks for the feedback! i'll discuss it with ...   \n",
       "2  1019062030176616458  a couple feature requests:\\nit would be fantas...   \n",
       "3  1019003148720951346  yep, when letting go of the connection arrow i...   \n",
       "4  1018986357592445019  if i may clarify, you want to create a new car...   \n",
       "\n",
       "                         created_at          author  \\\n",
       "0  2022-09-13 10:22:31.756000+00:00            finn   \n",
       "1  2022-09-13 02:42:46.824000+00:00       Alan Chan   \n",
       "2  2022-09-13 01:48:41.251000+00:00  robotic_scarab   \n",
       "3  2022-09-12 21:54:42.818000+00:00      maxlinworm   \n",
       "4  2022-09-12 20:47:59.501000+00:00       Sams_Here   \n",
       "\n",
       "                                           reference embeds  \\\n",
       "0                                                NaN     []   \n",
       "1  <MessageReference message_id=10190620301766164...     []   \n",
       "2                                                NaN     []   \n",
       "3  <MessageReference message_id=10189863575924450...     []   \n",
       "4  <MessageReference message_id=10189826926557266...     []   \n",
       "\n",
       "                                            mentions  \\\n",
       "0                                                 []   \n",
       "1  [<User id=174103652556996608 name='robotic_sca...   \n",
       "2                                                 []   \n",
       "3  [<User id=710847265581039616 name='Sams_Here' ...   \n",
       "4  [<User id=776122030230732820 name='maxlinworm'...   \n",
       "\n",
       "                                         attachments    label  \n",
       "0                                                 []    Other  \n",
       "1                                                 []    Other  \n",
       "2  [<Attachment id=1019062029572649100 filename='...  Request  \n",
       "3                                                 []  Request  \n",
       "4                                                 []  Request  "
      ]
     },
     "execution_count": 18,
     "metadata": {},
     "output_type": "execute_result"
    }
   ],
   "source": [
    "annotated_df.head()"
   ]
  },
  {
   "cell_type": "markdown",
   "metadata": {},
   "source": [
    "# Classify Feature Requests"
   ]
  },
  {
   "cell_type": "code",
   "execution_count": 19,
   "metadata": {},
   "outputs": [],
   "source": [
    "openai.api_key = env(\"API_KEY\")"
   ]
  },
  {
   "cell_type": "code",
   "execution_count": 20,
   "metadata": {},
   "outputs": [
    {
     "data": {
      "text/plain": [
       "' Other'"
      ]
     },
     "execution_count": 20,
     "metadata": {},
     "output_type": "execute_result"
    }
   ],
   "source": [
    "i = 1500\n",
    "def generate_response(x):  \n",
    "    ft_model = \"ada:ft-personal-2022-09-30-15-57-04\"\n",
    "    res = openai.Completion.create(model=ft_model, \n",
    "                                prompt= f'{x}\\n\\n###\\n\\n', max_tokens=1, temperature=0)\n",
    "    return res['choices'][0]['text']\n",
    "\n",
    "generate_response(200)"
   ]
  },
  {
   "cell_type": "code",
   "execution_count": 21,
   "metadata": {},
   "outputs": [],
   "source": [
    "def classify_df(df):\n",
    "    df['prediction'] = df['text'].apply(lambda x: generate_response(x))\n",
    "    return df"
   ]
  },
  {
   "cell_type": "code",
   "execution_count": 22,
   "metadata": {},
   "outputs": [],
   "source": [
    "labelled_df = classify_df(annotated_df)"
   ]
  },
  {
   "cell_type": "code",
   "execution_count": 23,
   "metadata": {},
   "outputs": [],
   "source": [
    "labelled_df['prediction'] = labelled_df['prediction'].apply(lambda x: x.strip())"
   ]
  },
  {
   "cell_type": "code",
   "execution_count": 24,
   "metadata": {},
   "outputs": [
    {
     "data": {
      "text/html": [
       "<div>\n",
       "<style scoped>\n",
       "    .dataframe tbody tr th:only-of-type {\n",
       "        vertical-align: middle;\n",
       "    }\n",
       "\n",
       "    .dataframe tbody tr th {\n",
       "        vertical-align: top;\n",
       "    }\n",
       "\n",
       "    .dataframe thead th {\n",
       "        text-align: right;\n",
       "    }\n",
       "</style>\n",
       "<table border=\"1\" class=\"dataframe\">\n",
       "  <thead>\n",
       "    <tr style=\"text-align: right;\">\n",
       "      <th></th>\n",
       "      <th>id</th>\n",
       "      <th>text</th>\n",
       "      <th>created_at</th>\n",
       "      <th>author</th>\n",
       "      <th>reference</th>\n",
       "      <th>embeds</th>\n",
       "      <th>mentions</th>\n",
       "      <th>attachments</th>\n",
       "      <th>label</th>\n",
       "      <th>prediction</th>\n",
       "    </tr>\n",
       "  </thead>\n",
       "  <tbody>\n",
       "    <tr>\n",
       "      <th>0</th>\n",
       "      <td>1019191342687072276</td>\n",
       "      <td>!history</td>\n",
       "      <td>2022-09-13 10:22:31.756000+00:00</td>\n",
       "      <td>finn</td>\n",
       "      <td>NaN</td>\n",
       "      <td>[]</td>\n",
       "      <td>[]</td>\n",
       "      <td>[]</td>\n",
       "      <td>Other</td>\n",
       "      <td>Other</td>\n",
       "    </tr>\n",
       "    <tr>\n",
       "      <th>1</th>\n",
       "      <td>1019075643096432781</td>\n",
       "      <td>thanks for the feedback! i'll discuss it with ...</td>\n",
       "      <td>2022-09-13 02:42:46.824000+00:00</td>\n",
       "      <td>Alan Chan</td>\n",
       "      <td>&lt;MessageReference message_id=10190620301766164...</td>\n",
       "      <td>[]</td>\n",
       "      <td>[&lt;User id=174103652556996608 name='robotic_sca...</td>\n",
       "      <td>[]</td>\n",
       "      <td>Other</td>\n",
       "      <td>Other</td>\n",
       "    </tr>\n",
       "    <tr>\n",
       "      <th>2</th>\n",
       "      <td>1019062030176616458</td>\n",
       "      <td>a couple feature requests:\\nit would be fantas...</td>\n",
       "      <td>2022-09-13 01:48:41.251000+00:00</td>\n",
       "      <td>robotic_scarab</td>\n",
       "      <td>NaN</td>\n",
       "      <td>[]</td>\n",
       "      <td>[]</td>\n",
       "      <td>[&lt;Attachment id=1019062029572649100 filename='...</td>\n",
       "      <td>Request</td>\n",
       "      <td>Request</td>\n",
       "    </tr>\n",
       "    <tr>\n",
       "      <th>3</th>\n",
       "      <td>1019003148720951346</td>\n",
       "      <td>yep, when letting go of the connection arrow i...</td>\n",
       "      <td>2022-09-12 21:54:42.818000+00:00</td>\n",
       "      <td>maxlinworm</td>\n",
       "      <td>&lt;MessageReference message_id=10189863575924450...</td>\n",
       "      <td>[]</td>\n",
       "      <td>[&lt;User id=710847265581039616 name='Sams_Here' ...</td>\n",
       "      <td>[]</td>\n",
       "      <td>Request</td>\n",
       "      <td>Request</td>\n",
       "    </tr>\n",
       "    <tr>\n",
       "      <th>4</th>\n",
       "      <td>1018986357592445019</td>\n",
       "      <td>if i may clarify, you want to create a new car...</td>\n",
       "      <td>2022-09-12 20:47:59.501000+00:00</td>\n",
       "      <td>Sams_Here</td>\n",
       "      <td>&lt;MessageReference message_id=10189826926557266...</td>\n",
       "      <td>[]</td>\n",
       "      <td>[&lt;User id=776122030230732820 name='maxlinworm'...</td>\n",
       "      <td>[]</td>\n",
       "      <td>Request</td>\n",
       "      <td>Request</td>\n",
       "    </tr>\n",
       "  </tbody>\n",
       "</table>\n",
       "</div>"
      ],
      "text/plain": [
       "                    id                                               text  \\\n",
       "0  1019191342687072276                                           !history   \n",
       "1  1019075643096432781  thanks for the feedback! i'll discuss it with ...   \n",
       "2  1019062030176616458  a couple feature requests:\\nit would be fantas...   \n",
       "3  1019003148720951346  yep, when letting go of the connection arrow i...   \n",
       "4  1018986357592445019  if i may clarify, you want to create a new car...   \n",
       "\n",
       "                         created_at          author  \\\n",
       "0  2022-09-13 10:22:31.756000+00:00            finn   \n",
       "1  2022-09-13 02:42:46.824000+00:00       Alan Chan   \n",
       "2  2022-09-13 01:48:41.251000+00:00  robotic_scarab   \n",
       "3  2022-09-12 21:54:42.818000+00:00      maxlinworm   \n",
       "4  2022-09-12 20:47:59.501000+00:00       Sams_Here   \n",
       "\n",
       "                                           reference embeds  \\\n",
       "0                                                NaN     []   \n",
       "1  <MessageReference message_id=10190620301766164...     []   \n",
       "2                                                NaN     []   \n",
       "3  <MessageReference message_id=10189863575924450...     []   \n",
       "4  <MessageReference message_id=10189826926557266...     []   \n",
       "\n",
       "                                            mentions  \\\n",
       "0                                                 []   \n",
       "1  [<User id=174103652556996608 name='robotic_sca...   \n",
       "2                                                 []   \n",
       "3  [<User id=710847265581039616 name='Sams_Here' ...   \n",
       "4  [<User id=776122030230732820 name='maxlinworm'...   \n",
       "\n",
       "                                         attachments    label prediction  \n",
       "0                                                 []    Other      Other  \n",
       "1                                                 []    Other      Other  \n",
       "2  [<Attachment id=1019062029572649100 filename='...  Request    Request  \n",
       "3                                                 []  Request    Request  \n",
       "4                                                 []  Request    Request  "
      ]
     },
     "execution_count": 24,
     "metadata": {},
     "output_type": "execute_result"
    }
   ],
   "source": [
    "labelled_df.head()"
   ]
  },
  {
   "cell_type": "markdown",
   "metadata": {},
   "source": [
    "## Classification Analysis"
   ]
  },
  {
   "cell_type": "code",
   "execution_count": 25,
   "metadata": {},
   "outputs": [
    {
     "data": {
      "image/png": "[encoded data removed]",
      "text/plain": [
       "<Figure size 432x288 with 2 Axes>"
      ]
     },
     "metadata": {
      "needs_background": "light"
     },
     "output_type": "display_data"
    }
   ],
   "source": [
    "def generate_confusion_matrix(labelled_df):\n",
    "    actual = np.array(labelled_df['label'])\n",
    "    predicted = np.array([i.strip() for i in labelled_df['prediction']])\n",
    "    \n",
    "    cm = confusion_matrix(actual, predicted, labels=[\"Request\", \"Other\", \"Unsure\"])\n",
    "    display = ConfusionMatrixDisplay(confusion_matrix = cm, display_labels=[\"Request\", \"Other\", \"Unsure\"]).plot()\n",
    "    plt.title(\"Confusion Matrix for Feature Requests (Fine-Tuned Ada)\")\n",
    "\n",
    "generate_confusion_matrix(labelled_df)"
   ]
  },
  {
   "cell_type": "code",
   "execution_count": 26,
   "metadata": {},
   "outputs": [],
   "source": [
    "feature_requests_df = labelled_df[labelled_df['prediction'] == \"Request\"]\n"
   ]
  },
  {
   "cell_type": "code",
   "execution_count": 30,
   "metadata": {},
   "outputs": [
    {
     "data": {
      "text/html": [
       "<div>\n",
       "<style scoped>\n",
       "    .dataframe tbody tr th:only-of-type {\n",
       "        vertical-align: middle;\n",
       "    }\n",
       "\n",
       "    .dataframe tbody tr th {\n",
       "        vertical-align: top;\n",
       "    }\n",
       "\n",
       "    .dataframe thead th {\n",
       "        text-align: right;\n",
       "    }\n",
       "</style>\n",
       "<table border=\"1\" class=\"dataframe\">\n",
       "  <thead>\n",
       "    <tr style=\"text-align: right;\">\n",
       "      <th></th>\n",
       "      <th>id</th>\n",
       "      <th>text</th>\n",
       "      <th>created_at</th>\n",
       "      <th>author</th>\n",
       "      <th>reference</th>\n",
       "      <th>embeds</th>\n",
       "      <th>mentions</th>\n",
       "      <th>attachments</th>\n",
       "      <th>label</th>\n",
       "      <th>prediction</th>\n",
       "    </tr>\n",
       "  </thead>\n",
       "  <tbody>\n",
       "    <tr>\n",
       "      <th>2</th>\n",
       "      <td>1019062030176616458</td>\n",
       "      <td>a couple feature requests:\\nit would be fantas...</td>\n",
       "      <td>2022-09-13 01:48:41.251000+00:00</td>\n",
       "      <td>robotic_scarab</td>\n",
       "      <td>NaN</td>\n",
       "      <td>[]</td>\n",
       "      <td>[]</td>\n",
       "      <td>[&lt;Attachment id=1019062029572649100 filename='...</td>\n",
       "      <td>Request</td>\n",
       "      <td>Request</td>\n",
       "    </tr>\n",
       "    <tr>\n",
       "      <th>3</th>\n",
       "      <td>1019003148720951346</td>\n",
       "      <td>yep, when letting go of the connection arrow i...</td>\n",
       "      <td>2022-09-12 21:54:42.818000+00:00</td>\n",
       "      <td>maxlinworm</td>\n",
       "      <td>&lt;MessageReference message_id=10189863575924450...</td>\n",
       "      <td>[]</td>\n",
       "      <td>[&lt;User id=710847265581039616 name='Sams_Here' ...</td>\n",
       "      <td>[]</td>\n",
       "      <td>Request</td>\n",
       "      <td>Request</td>\n",
       "    </tr>\n",
       "    <tr>\n",
       "      <th>4</th>\n",
       "      <td>1018986357592445019</td>\n",
       "      <td>if i may clarify, you want to create a new car...</td>\n",
       "      <td>2022-09-12 20:47:59.501000+00:00</td>\n",
       "      <td>Sams_Here</td>\n",
       "      <td>&lt;MessageReference message_id=10189826926557266...</td>\n",
       "      <td>[]</td>\n",
       "      <td>[&lt;User id=776122030230732820 name='maxlinworm'...</td>\n",
       "      <td>[]</td>\n",
       "      <td>Request</td>\n",
       "      <td>Request</td>\n",
       "    </tr>\n",
       "    <tr>\n",
       "      <th>5</th>\n",
       "      <td>1018982692655726672</td>\n",
       "      <td>create a new card by clicking in empty space i...</td>\n",
       "      <td>2022-09-12 20:33:25.712000+00:00</td>\n",
       "      <td>maxlinworm</td>\n",
       "      <td>NaN</td>\n",
       "      <td>[]</td>\n",
       "      <td>[]</td>\n",
       "      <td>[&lt;Attachment id=1018982691296784435 filename='...</td>\n",
       "      <td>Request</td>\n",
       "      <td>Request</td>\n",
       "    </tr>\n",
       "    <tr>\n",
       "      <th>9</th>\n",
       "      <td>1016745192277159936</td>\n",
       "      <td>when clicking outside of a card on a whiteboar...</td>\n",
       "      <td>2022-09-06 16:22:24.051000+00:00</td>\n",
       "      <td>robotic_scarab</td>\n",
       "      <td>NaN</td>\n",
       "      <td>[]</td>\n",
       "      <td>[]</td>\n",
       "      <td>[&lt;Attachment id=1016745191681572895 filename='...</td>\n",
       "      <td>Request</td>\n",
       "      <td>Request</td>\n",
       "    </tr>\n",
       "  </tbody>\n",
       "</table>\n",
       "</div>"
      ],
      "text/plain": [
       "                    id                                               text  \\\n",
       "2  1019062030176616458  a couple feature requests:\\nit would be fantas...   \n",
       "3  1019003148720951346  yep, when letting go of the connection arrow i...   \n",
       "4  1018986357592445019  if i may clarify, you want to create a new car...   \n",
       "5  1018982692655726672  create a new card by clicking in empty space i...   \n",
       "9  1016745192277159936  when clicking outside of a card on a whiteboar...   \n",
       "\n",
       "                         created_at          author  \\\n",
       "2  2022-09-13 01:48:41.251000+00:00  robotic_scarab   \n",
       "3  2022-09-12 21:54:42.818000+00:00      maxlinworm   \n",
       "4  2022-09-12 20:47:59.501000+00:00       Sams_Here   \n",
       "5  2022-09-12 20:33:25.712000+00:00      maxlinworm   \n",
       "9  2022-09-06 16:22:24.051000+00:00  robotic_scarab   \n",
       "\n",
       "                                           reference embeds  \\\n",
       "2                                                NaN     []   \n",
       "3  <MessageReference message_id=10189863575924450...     []   \n",
       "4  <MessageReference message_id=10189826926557266...     []   \n",
       "5                                                NaN     []   \n",
       "9                                                NaN     []   \n",
       "\n",
       "                                            mentions  \\\n",
       "2                                                 []   \n",
       "3  [<User id=710847265581039616 name='Sams_Here' ...   \n",
       "4  [<User id=776122030230732820 name='maxlinworm'...   \n",
       "5                                                 []   \n",
       "9                                                 []   \n",
       "\n",
       "                                         attachments    label prediction  \n",
       "2  [<Attachment id=1019062029572649100 filename='...  Request    Request  \n",
       "3                                                 []  Request    Request  \n",
       "4                                                 []  Request    Request  \n",
       "5  [<Attachment id=1018982691296784435 filename='...  Request    Request  \n",
       "9  [<Attachment id=1016745191681572895 filename='...  Request    Request  "
      ]
     },
     "execution_count": 30,
     "metadata": {},
     "output_type": "execute_result"
    }
   ],
   "source": [
    "feature_requests_df.head()"
   ]
  },
  {
   "cell_type": "markdown",
   "metadata": {},
   "source": [
    "# Extract Feature Requests"
   ]
  },
  {
   "cell_type": "code",
   "execution_count": 31,
   "metadata": {},
   "outputs": [],
   "source": [
    "def extract_feature_requests(x):\n",
    "    res = openai.Completion.create(model=\"text-davinci-002\", \n",
    "                                    prompt=\"Tell me what features this user is requesting. \\n\" + x + \"\\n Feature Requests:\", \n",
    "                                    temperature=0, \n",
    "                                    max_tokens=300)\n",
    "    return res['choices'][0]['text']"
   ]
  },
  {
   "cell_type": "code",
   "execution_count": 32,
   "metadata": {},
   "outputs": [
    {
     "name": "stderr",
     "output_type": "stream",
     "text": [
      "/var/folders/_n/c17wd9k97s7dm583pk_qqyjh0000gn/T/ipykernel_64332/666345732.py:2: SettingWithCopyWarning: \n",
      "A value is trying to be set on a copy of a slice from a DataFrame.\n",
      "Try using .loc[row_indexer,col_indexer] = value instead\n",
      "\n",
      "See the caveats in the documentation: https://pandas.pydata.org/pandas-docs/stable/user_guide/indexing.html#returning-a-view-versus-a-copy\n",
      "  df['fr'] = df['text'].apply(lambda x: extract_feature_requests(x))\n"
     ]
    }
   ],
   "source": [
    "def extract_df(df):\n",
    "    df['fr'] = df['text'].apply(lambda x: extract_feature_requests(x))\n",
    "    return df\n",
    "\n",
    "extracted_df = extract_df(feature_requests_df)"
   ]
  },
  {
   "cell_type": "code",
   "execution_count": 36,
   "metadata": {},
   "outputs": [],
   "source": [
    "extracted_df.to_csv(\"/Users/finnmacken/Desktop/Code/ChatStructure/ProductionTestOutputs/extracted_df\")"
   ]
  },
  {
   "cell_type": "code",
   "execution_count": 5,
   "metadata": {},
   "outputs": [],
   "source": [
    "extracted_df = pd.read_csv(\"/Users/finnmacken/Desktop/Code/ChatStructure/ProductionTestOutputs/extracted_df\")"
   ]
  },
  {
   "cell_type": "code",
   "execution_count": 22,
   "metadata": {},
   "outputs": [
    {
     "name": "stdout",
     "output_type": "stream",
     "text": [
      "i'd love a way to export a card into a pdf or even be able to just copy paste it into slack while retaining the images like in bear\n",
      " \n",
      "1. Exporting a card into a PDF\n",
      "2. Copying and pasting a card into Slack while retaining images\n"
     ]
    }
   ],
   "source": [
    "index = 450\n",
    "print(extracted_df.iloc[index, [2, 11]]['text'])\n",
    "print(extracted_df.iloc[index, [2, 11]]['fr'])"
   ]
  },
  {
   "cell_type": "code",
   "execution_count": 103,
   "metadata": {},
   "outputs": [],
   "source": [
    "extracted_df['fr'] = extracted_df['fr'].str.split(\"\\n\")\n",
    "exploded_df = extracted_df.explode(\"fr\")"
   ]
  },
  {
   "cell_type": "code",
   "execution_count": 104,
   "metadata": {},
   "outputs": [
    {
     "name": "stdout",
     "output_type": "stream",
     "text": [
      "1867\n"
     ]
    }
   ],
   "source": [
    "exploded_df = exploded_df[~exploded_df[\"fr\"].isin(['', \" \", \"  \"])]\n",
    "print(len(exploded_df))"
   ]
  },
  {
   "cell_type": "code",
   "execution_count": 105,
   "metadata": {},
   "outputs": [],
   "source": [
    "exploded_df.rename(columns={\"id\": 'message_id'}, inplace=True)"
   ]
  },
  {
   "cell_type": "code",
   "execution_count": 111,
   "metadata": {},
   "outputs": [],
   "source": [
    "exploded_df = exploded_df.reset_index(drop=True)"
   ]
  },
  {
   "cell_type": "code",
   "execution_count": 119,
   "metadata": {},
   "outputs": [],
   "source": [
    "exploded_df[\"fr_id\"] = exploded_df.apply(lambda x: f\"{x['message_id']}{hash(x['fr'])}\", axis=1)"
   ]
  },
  {
   "cell_type": "markdown",
   "metadata": {},
   "source": [
    "# Clustering"
   ]
  },
  {
   "cell_type": "code",
   "execution_count": 121,
   "metadata": {},
   "outputs": [],
   "source": [
    "exploded_df[\"sim_embedding\"] = exploded_df['fr'].apply(lambda x: get_embedding(x, engine=\"text-similarity-babbage-001\"))"
   ]
  },
  {
   "cell_type": "code",
   "execution_count": 122,
   "metadata": {},
   "outputs": [],
   "source": [
    "exploded_df.to_csv(\"/Users/finnmacken/Desktop/Code/ChatStructure/ProductionTestOutputs/exploded_df\")"
   ]
  },
  {
   "cell_type": "markdown",
   "metadata": {},
   "source": [
    "## K-Means"
   ]
  },
  {
   "cell_type": "code",
   "execution_count": 123,
   "metadata": {},
   "outputs": [],
   "source": [
    "matrix = np.vstack(exploded_df['sim_embedding'].values)"
   ]
  },
  {
   "cell_type": "code",
   "execution_count": 124,
   "metadata": {},
   "outputs": [],
   "source": [
    "n_clusters = 50\n",
    "kmeans = KMeans(n_clusters=n_clusters, init=\"k-means++\", random_state=42)\n",
    "kmeans.fit(matrix)\n",
    "labels = kmeans.labels_"
   ]
  },
  {
   "cell_type": "code",
   "execution_count": 125,
   "metadata": {},
   "outputs": [],
   "source": [
    "exploded_df['kmeans_labels'] = labels"
   ]
  },
  {
   "cell_type": "markdown",
   "metadata": {},
   "source": [
    "### Analysis"
   ]
  },
  {
   "cell_type": "code",
   "execution_count": 126,
   "metadata": {},
   "outputs": [
    {
     "data": {
      "image/png": "[encoded data removed]",
      "text/plain": [
       "<Figure size 432x288 with 1 Axes>"
      ]
     },
     "metadata": {
      "needs_background": "light"
     },
     "output_type": "display_data"
    }
   ],
   "source": [
    "clusters = dict(sorted(dict(Counter(labels)).items()))\n",
    "plt.bar(list(clusters.keys()), list(clusters.values()), color='#AAAAAA')\n",
    "plt.title(\"Distribution of feature requests into different categories\")\n",
    "plt.show()"
   ]
  },
  {
   "cell_type": "markdown",
   "metadata": {},
   "source": [
    "# Renaming"
   ]
  },
  {
   "cell_type": "code",
   "execution_count": 135,
   "metadata": {},
   "outputs": [],
   "source": [
    "exploded_df = exploded_df.rename(columns={'text': 'message'})"
   ]
  },
  {
   "cell_type": "code",
   "execution_count": null,
   "metadata": {},
   "outputs": [],
   "source": [
    "exploded_df.head()"
   ]
  },
  {
   "cell_type": "markdown",
   "metadata": {},
   "source": [
    "# Search"
   ]
  },
  {
   "cell_type": "code",
   "execution_count": 137,
   "metadata": {},
   "outputs": [],
   "source": [
    "exploded_df[\"search_embedding\"] = exploded_df['fr'].apply(lambda x: get_embedding(x, engine=\"text-search-babbage-doc-001\"))"
   ]
  },
  {
   "cell_type": "code",
   "execution_count": 105,
   "metadata": {},
   "outputs": [],
   "source": [
    "exploded_df[\"fr_id\"] = exploded_df.apply(lambda x: f\"{x['message_id']}{hash(x['fr'])}\", axis=1)"
   ]
  },
  {
   "cell_type": "code",
   "execution_count": 107,
   "metadata": {},
   "outputs": [],
   "source": [
    "exploded_df.to_csv(\"/Users/finnmacken/Desktop/Code/ChatStructure/ProductionTestOutputs/exploded_search_df\")"
   ]
  },
  {
   "cell_type": "code",
   "execution_count": 96,
   "metadata": {},
   "outputs": [],
   "source": [
    "exploded_df = pd.read_csv(\"/Users/finnmacken/Desktop/Code/ChatStructure/ProductionTestOutputs/exploded_search_df\")\n",
    "exploded_df[\"search_embedding\"] = exploded_df[\"search_embedding\"].map(json.loads)"
   ]
  },
  {
   "cell_type": "markdown",
   "metadata": {},
   "source": [
    "## Pinecone Upload"
   ]
  },
  {
   "cell_type": "code",
   "execution_count": 104,
   "metadata": {},
   "outputs": [
    {
     "data": {
      "text/plain": [
       "{}"
      ]
     },
     "execution_count": 104,
     "metadata": {},
     "output_type": "execute_result"
    }
   ],
   "source": [
    "# pinecone.init(api_key=\"6d627fcf-c8fe-4139-a923-efc89a651f88\", environment=\"us-west1-gcp\")\n",
    "# index = pinecone.Index(\"terrarium\")\n",
    "# index.delete(delete_all=True)"
   ]
  },
  {
   "cell_type": "code",
   "execution_count": 108,
   "metadata": {},
   "outputs": [],
   "source": [
    "def preprocess_embeddings(dataframe):\n",
    "    embeddings = dataframe.loc[:, ['fr_id', 'search_embedding']]\n",
    "    embeddings.columns = ['id', 'values']\n",
    "    # embeddings['values'] = embeddings['values'].apply(literal_eval)\n",
    "    return embeddings"
   ]
  },
  {
   "cell_type": "code",
   "execution_count": 109,
   "metadata": {},
   "outputs": [
    {
     "data": {
      "text/html": [
       "<div>\n",
       "<style scoped>\n",
       "    .dataframe tbody tr th:only-of-type {\n",
       "        vertical-align: middle;\n",
       "    }\n",
       "\n",
       "    .dataframe tbody tr th {\n",
       "        vertical-align: top;\n",
       "    }\n",
       "\n",
       "    .dataframe thead th {\n",
       "        text-align: right;\n",
       "    }\n",
       "</style>\n",
       "<table border=\"1\" class=\"dataframe\">\n",
       "  <thead>\n",
       "    <tr style=\"text-align: right;\">\n",
       "      <th></th>\n",
       "      <th>id</th>\n",
       "      <th>values</th>\n",
       "    </tr>\n",
       "  </thead>\n",
       "  <tbody>\n",
       "    <tr>\n",
       "      <th>0</th>\n",
       "      <td>10190620301766164583262674047531762287</td>\n",
       "      <td>[-0.004777181427925825, 0.042440176010131836, ...</td>\n",
       "    </tr>\n",
       "    <tr>\n",
       "      <th>1</th>\n",
       "      <td>1019062030176616458-1415130817690778901</td>\n",
       "      <td>[0.012828316539525986, 0.0011032710317522287, ...</td>\n",
       "    </tr>\n",
       "    <tr>\n",
       "      <th>2</th>\n",
       "      <td>10190031487209513464644656457084113336</td>\n",
       "      <td>[0.029440756887197495, 0.014846691861748695, -...</td>\n",
       "    </tr>\n",
       "    <tr>\n",
       "      <th>3</th>\n",
       "      <td>10190031487209513461988579829053545912</td>\n",
       "      <td>[0.04014235734939575, 0.015832846984267235, -0...</td>\n",
       "    </tr>\n",
       "    <tr>\n",
       "      <th>4</th>\n",
       "      <td>1018986357592445019-171445030898930826</td>\n",
       "      <td>[0.031373728066682816, 0.049813877791166306, -...</td>\n",
       "    </tr>\n",
       "    <tr>\n",
       "      <th>...</th>\n",
       "      <td>...</td>\n",
       "      <td>...</td>\n",
       "    </tr>\n",
       "    <tr>\n",
       "      <th>1862</th>\n",
       "      <td>8561372007898808948599159135424530898</td>\n",
       "      <td>[0.0070258695632219315, 0.03533341735601425, -...</td>\n",
       "    </tr>\n",
       "    <tr>\n",
       "      <th>1863</th>\n",
       "      <td>8561372007898808942924584296915428630</td>\n",
       "      <td>[0.012334934435784817, 0.018388889729976654, -...</td>\n",
       "    </tr>\n",
       "    <tr>\n",
       "      <th>1864</th>\n",
       "      <td>856137200789880894-225967667873902691</td>\n",
       "      <td>[0.02048768848180771, 0.019217712804675102, -0...</td>\n",
       "    </tr>\n",
       "    <tr>\n",
       "      <th>1865</th>\n",
       "      <td>856134368228409384-2433429182015928174</td>\n",
       "      <td>[0.012097869999706745, 0.02703668922185898, 0....</td>\n",
       "    </tr>\n",
       "    <tr>\n",
       "      <th>1866</th>\n",
       "      <td>8561343682284093848247262224141030292</td>\n",
       "      <td>[0.001656680484302342, 0.035342514514923096, 0...</td>\n",
       "    </tr>\n",
       "  </tbody>\n",
       "</table>\n",
       "<p>1867 rows × 2 columns</p>\n",
       "</div>"
      ],
      "text/plain": [
       "                                           id  \\\n",
       "0      10190620301766164583262674047531762287   \n",
       "1     1019062030176616458-1415130817690778901   \n",
       "2      10190031487209513464644656457084113336   \n",
       "3      10190031487209513461988579829053545912   \n",
       "4      1018986357592445019-171445030898930826   \n",
       "...                                       ...   \n",
       "1862    8561372007898808948599159135424530898   \n",
       "1863    8561372007898808942924584296915428630   \n",
       "1864    856137200789880894-225967667873902691   \n",
       "1865   856134368228409384-2433429182015928174   \n",
       "1866    8561343682284093848247262224141030292   \n",
       "\n",
       "                                                 values  \n",
       "0     [-0.004777181427925825, 0.042440176010131836, ...  \n",
       "1     [0.012828316539525986, 0.0011032710317522287, ...  \n",
       "2     [0.029440756887197495, 0.014846691861748695, -...  \n",
       "3     [0.04014235734939575, 0.015832846984267235, -0...  \n",
       "4     [0.031373728066682816, 0.049813877791166306, -...  \n",
       "...                                                 ...  \n",
       "1862  [0.0070258695632219315, 0.03533341735601425, -...  \n",
       "1863  [0.012334934435784817, 0.018388889729976654, -...  \n",
       "1864  [0.02048768848180771, 0.019217712804675102, -0...  \n",
       "1865  [0.012097869999706745, 0.02703668922185898, 0....  \n",
       "1866  [0.001656680484302342, 0.035342514514923096, 0...  \n",
       "\n",
       "[1867 rows x 2 columns]"
      ]
     },
     "execution_count": 109,
     "metadata": {},
     "output_type": "execute_result"
    }
   ],
   "source": [
    "preprocess_embeddings(exploded_df)"
   ]
  },
  {
   "cell_type": "code",
   "execution_count": 110,
   "metadata": {},
   "outputs": [],
   "source": [
    "def batches(iterable, batch_size):\n",
    "  \"\"\"Helper function to break an iterable into chunks of size batch_size.\"\"\"\n",
    "  it = iter(iterable)\n",
    "  chunk = list(itertools.islice(it, batch_size))\n",
    "  while chunk:\n",
    "      yield chunk\n",
    "      chunk = list(itertools.islice(it, batch_size))\n",
    "\n",
    "def batch_upload(vector_list, pinecone_index, batch_size):\n",
    "  for vector_batch in batches(vector_list, batch_size=batch_size):\n",
    "    pinecone_index.upsert(vectors=vector_batch)"
   ]
  },
  {
   "cell_type": "code",
   "execution_count": 111,
   "metadata": {},
   "outputs": [],
   "source": [
    "def async_batch_upload(vector_list, batch_size=100):\n",
    "    with pinecone.Index(\"terrarium\", pool_threads=30) as index:\n",
    "        async_results = [\n",
    "            index.upsert(vectors=id_vectors_chunk, async_req=True)\n",
    "            for id_vectors_chunk in tqdm(batches(vector_list, batch_size))\n",
    "        ]\n",
    "\n",
    "        return [async_result.get() for async_result in async_results]\n"
   ]
  },
  {
   "cell_type": "code",
   "execution_count": 112,
   "metadata": {},
   "outputs": [],
   "source": [
    "def schematize_and_upload_embeddings(unprocessed_data):\n",
    "    pinecone.init(api_key=\"6d627fcf-c8fe-4139-a923-efc89a651f88\", environment=\"us-west1-gcp\")\n",
    "    index = pinecone.Index(\"terrarium\")\n",
    "\n",
    "    data = preprocess_embeddings(unprocessed_data)\n",
    "    data_itertuples = list(data.itertuples(index=False, name=None))\n",
    "    return async_batch_upload(data_itertuples)            "
   ]
  },
  {
   "cell_type": "code",
   "execution_count": 113,
   "metadata": {},
   "outputs": [
    {
     "name": "stderr",
     "output_type": "stream",
     "text": [
      "19it [00:00, 440.88it/s]\n"
     ]
    },
    {
     "data": {
      "text/plain": [
       "[{'upserted_count': 100},\n",
       " {'upserted_count': 100},\n",
       " {'upserted_count': 100},\n",
       " {'upserted_count': 100},\n",
       " {'upserted_count': 100},\n",
       " {'upserted_count': 100},\n",
       " {'upserted_count': 100},\n",
       " {'upserted_count': 100},\n",
       " {'upserted_count': 100},\n",
       " {'upserted_count': 100},\n",
       " {'upserted_count': 100},\n",
       " {'upserted_count': 100},\n",
       " {'upserted_count': 100},\n",
       " {'upserted_count': 100},\n",
       " {'upserted_count': 100},\n",
       " {'upserted_count': 100},\n",
       " {'upserted_count': 100},\n",
       " {'upserted_count': 100},\n",
       " {'upserted_count': 67}]"
      ]
     },
     "execution_count": 113,
     "metadata": {},
     "output_type": "execute_result"
    }
   ],
   "source": [
    "schematize_and_upload_embeddings(exploded_df)"
   ]
  },
  {
   "cell_type": "markdown",
   "metadata": {},
   "source": [
    "# Exporting to JSON"
   ]
  },
  {
   "cell_type": "code",
   "execution_count": 82,
   "metadata": {},
   "outputs": [],
   "source": [
    "output_df = exploded_df.loc[:, ['message_id', \n",
    "                                'message', \n",
    "                                'created_at',\n",
    "                                'author',\n",
    "                                'label',\n",
    "                                'fr',\n",
    "                                'fr_id',\n",
    "                                'kmeans_labels'\n",
    "                                ]]"
   ]
  },
  {
   "cell_type": "markdown",
   "metadata": {},
   "source": []
  },
  {
   "cell_type": "code",
   "execution_count": null,
   "metadata": {},
   "outputs": [],
   "source": [
    "output_df.head()"
   ]
  },
  {
   "cell_type": "code",
   "execution_count": 83,
   "metadata": {},
   "outputs": [],
   "source": [
    "output_df.to_json(\"/Users/finnmacken/Desktop/Code/ChatStructure/ProductionTestOutputs/final_output.json\", orient='records', index=True)"
   ]
  },
  {
   "cell_type": "markdown",
   "metadata": {},
   "source": [
    "# Database Upload"
   ]
  },
  {
   "cell_type": "code",
   "execution_count": 88,
   "metadata": {},
   "outputs": [],
   "source": [
    "output_df = pd.read_json(\"/Users/finnmacken/Desktop/Code/ChatStructure/ProductionTestOutputs/final_output.json\", orient=\"records\")"
   ]
  },
  {
   "cell_type": "code",
   "execution_count": 89,
   "metadata": {},
   "outputs": [
    {
     "data": {
      "text/html": [
       "<div>\n",
       "<style scoped>\n",
       "    .dataframe tbody tr th:only-of-type {\n",
       "        vertical-align: middle;\n",
       "    }\n",
       "\n",
       "    .dataframe tbody tr th {\n",
       "        vertical-align: top;\n",
       "    }\n",
       "\n",
       "    .dataframe thead th {\n",
       "        text-align: right;\n",
       "    }\n",
       "</style>\n",
       "<table border=\"1\" class=\"dataframe\">\n",
       "  <thead>\n",
       "    <tr style=\"text-align: right;\">\n",
       "      <th></th>\n",
       "      <th>message_id</th>\n",
       "      <th>message</th>\n",
       "      <th>created_at</th>\n",
       "      <th>author</th>\n",
       "      <th>label</th>\n",
       "      <th>fr</th>\n",
       "      <th>fr_id</th>\n",
       "      <th>kmeans_labels</th>\n",
       "    </tr>\n",
       "  </thead>\n",
       "  <tbody>\n",
       "    <tr>\n",
       "      <th>0</th>\n",
       "      <td>1019062030176616448</td>\n",
       "      <td>a couple feature requests:\\nit would be fantas...</td>\n",
       "      <td>2022-09-13 01:48:41.251</td>\n",
       "      <td>robotic_scarab</td>\n",
       "      <td>Request</td>\n",
       "      <td>1. Collapsing whiteboards</td>\n",
       "      <td>10190620301766164583262674047531762287</td>\n",
       "      <td>25</td>\n",
       "    </tr>\n",
       "    <tr>\n",
       "      <th>1</th>\n",
       "      <td>1019062030176616448</td>\n",
       "      <td>a couple feature requests:\\nit would be fantas...</td>\n",
       "      <td>2022-09-13 01:48:41.251</td>\n",
       "      <td>robotic_scarab</td>\n",
       "      <td>Request</td>\n",
       "      <td>2. Setting size of collapsed card's title</td>\n",
       "      <td>1019062030176616458-1415130817690778901</td>\n",
       "      <td>36</td>\n",
       "    </tr>\n",
       "    <tr>\n",
       "      <th>2</th>\n",
       "      <td>1019003148720951296</td>\n",
       "      <td>yep, when letting go of the connection arrow i...</td>\n",
       "      <td>2022-09-12 21:54:42.818</td>\n",
       "      <td>maxlinworm</td>\n",
       "      <td>Request</td>\n",
       "      <td>1. A new card should be created when the user ...</td>\n",
       "      <td>10190031487209513464644656457084113336</td>\n",
       "      <td>11</td>\n",
       "    </tr>\n",
       "    <tr>\n",
       "      <th>3</th>\n",
       "      <td>1019003148720951296</td>\n",
       "      <td>yep, when letting go of the connection arrow i...</td>\n",
       "      <td>2022-09-12 21:54:42.818</td>\n",
       "      <td>maxlinworm</td>\n",
       "      <td>Request</td>\n",
       "      <td>2. The user should be able to connect two card...</td>\n",
       "      <td>10190031487209513461988579829053545912</td>\n",
       "      <td>32</td>\n",
       "    </tr>\n",
       "    <tr>\n",
       "      <th>4</th>\n",
       "      <td>1018986357592445056</td>\n",
       "      <td>if i may clarify, you want to create a new car...</td>\n",
       "      <td>2022-09-12 20:47:59.501</td>\n",
       "      <td>Sams_Here</td>\n",
       "      <td>Request</td>\n",
       "      <td>-The ability to create a new card when draggin...</td>\n",
       "      <td>1018986357592445019-171445030898930826</td>\n",
       "      <td>41</td>\n",
       "    </tr>\n",
       "    <tr>\n",
       "      <th>...</th>\n",
       "      <td>...</td>\n",
       "      <td>...</td>\n",
       "      <td>...</td>\n",
       "      <td>...</td>\n",
       "      <td>...</td>\n",
       "      <td>...</td>\n",
       "      <td>...</td>\n",
       "      <td>...</td>\n",
       "    </tr>\n",
       "    <tr>\n",
       "      <th>1860</th>\n",
       "      <td>856137200789880832</td>\n",
       "      <td>type tool\\na button somewhere on the board wit...</td>\n",
       "      <td>2021-06-20 11:43:34.928</td>\n",
       "      <td>Vincer</td>\n",
       "      <td>Request</td>\n",
       "      <td>-The ability to click on an empty space and cr...</td>\n",
       "      <td>8561372007898808948599159135424530898</td>\n",
       "      <td>43</td>\n",
       "    </tr>\n",
       "    <tr>\n",
       "      <th>1861</th>\n",
       "      <td>856137200789880832</td>\n",
       "      <td>type tool\\na button somewhere on the board wit...</td>\n",
       "      <td>2021-06-20 11:43:34.928</td>\n",
       "      <td>Vincer</td>\n",
       "      <td>Request</td>\n",
       "      <td>-The ability to click away, select something e...</td>\n",
       "      <td>8561372007898808942924584296915428630</td>\n",
       "      <td>43</td>\n",
       "    </tr>\n",
       "    <tr>\n",
       "      <th>1862</th>\n",
       "      <td>856137200789880832</td>\n",
       "      <td>type tool\\na button somewhere on the board wit...</td>\n",
       "      <td>2021-06-20 11:43:34.928</td>\n",
       "      <td>Vincer</td>\n",
       "      <td>Request</td>\n",
       "      <td>-The ability to click on the outside rectangle...</td>\n",
       "      <td>856137200789880894-225967667873902691</td>\n",
       "      <td>45</td>\n",
       "    </tr>\n",
       "    <tr>\n",
       "      <th>1863</th>\n",
       "      <td>856134368228409344</td>\n",
       "      <td>1) multi-select (ctr/cmd or shift clicking)\\n+...</td>\n",
       "      <td>2021-06-20 11:32:19.593</td>\n",
       "      <td>Vincer</td>\n",
       "      <td>Request</td>\n",
       "      <td>1. The ability to select multiple notes at onc...</td>\n",
       "      <td>856134368228409384-2433429182015928174</td>\n",
       "      <td>43</td>\n",
       "    </tr>\n",
       "    <tr>\n",
       "      <th>1864</th>\n",
       "      <td>856134368228409344</td>\n",
       "      <td>1) multi-select (ctr/cmd or shift clicking)\\n+...</td>\n",
       "      <td>2021-06-20 11:32:19.593</td>\n",
       "      <td>Vincer</td>\n",
       "      <td>Request</td>\n",
       "      <td>2. The ability to duplicate a note by dragging...</td>\n",
       "      <td>8561343682284093848247262224141030292</td>\n",
       "      <td>43</td>\n",
       "    </tr>\n",
       "  </tbody>\n",
       "</table>\n",
       "<p>1865 rows × 8 columns</p>\n",
       "</div>"
      ],
      "text/plain": [
       "               message_id                                            message  \\\n",
       "0     1019062030176616448  a couple feature requests:\\nit would be fantas...   \n",
       "1     1019062030176616448  a couple feature requests:\\nit would be fantas...   \n",
       "2     1019003148720951296  yep, when letting go of the connection arrow i...   \n",
       "3     1019003148720951296  yep, when letting go of the connection arrow i...   \n",
       "4     1018986357592445056  if i may clarify, you want to create a new car...   \n",
       "...                   ...                                                ...   \n",
       "1860   856137200789880832  type tool\\na button somewhere on the board wit...   \n",
       "1861   856137200789880832  type tool\\na button somewhere on the board wit...   \n",
       "1862   856137200789880832  type tool\\na button somewhere on the board wit...   \n",
       "1863   856134368228409344  1) multi-select (ctr/cmd or shift clicking)\\n+...   \n",
       "1864   856134368228409344  1) multi-select (ctr/cmd or shift clicking)\\n+...   \n",
       "\n",
       "                  created_at          author    label  \\\n",
       "0    2022-09-13 01:48:41.251  robotic_scarab  Request   \n",
       "1    2022-09-13 01:48:41.251  robotic_scarab  Request   \n",
       "2    2022-09-12 21:54:42.818      maxlinworm  Request   \n",
       "3    2022-09-12 21:54:42.818      maxlinworm  Request   \n",
       "4    2022-09-12 20:47:59.501       Sams_Here  Request   \n",
       "...                      ...             ...      ...   \n",
       "1860 2021-06-20 11:43:34.928          Vincer  Request   \n",
       "1861 2021-06-20 11:43:34.928          Vincer  Request   \n",
       "1862 2021-06-20 11:43:34.928          Vincer  Request   \n",
       "1863 2021-06-20 11:32:19.593          Vincer  Request   \n",
       "1864 2021-06-20 11:32:19.593          Vincer  Request   \n",
       "\n",
       "                                                     fr  \\\n",
       "0                             1. Collapsing whiteboards   \n",
       "1             2. Setting size of collapsed card's title   \n",
       "2     1. A new card should be created when the user ...   \n",
       "3     2. The user should be able to connect two card...   \n",
       "4     -The ability to create a new card when draggin...   \n",
       "...                                                 ...   \n",
       "1860  -The ability to click on an empty space and cr...   \n",
       "1861  -The ability to click away, select something e...   \n",
       "1862  -The ability to click on the outside rectangle...   \n",
       "1863  1. The ability to select multiple notes at onc...   \n",
       "1864  2. The ability to duplicate a note by dragging...   \n",
       "\n",
       "                                        fr_id  kmeans_labels  \n",
       "0      10190620301766164583262674047531762287             25  \n",
       "1     1019062030176616458-1415130817690778901             36  \n",
       "2      10190031487209513464644656457084113336             11  \n",
       "3      10190031487209513461988579829053545912             32  \n",
       "4      1018986357592445019-171445030898930826             41  \n",
       "...                                       ...            ...  \n",
       "1860    8561372007898808948599159135424530898             43  \n",
       "1861    8561372007898808942924584296915428630             43  \n",
       "1862    856137200789880894-225967667873902691             45  \n",
       "1863   856134368228409384-2433429182015928174             43  \n",
       "1864    8561343682284093848247262224141030292             43  \n",
       "\n",
       "[1865 rows x 8 columns]"
      ]
     },
     "execution_count": 89,
     "metadata": {},
     "output_type": "execute_result"
    }
   ],
   "source": [
    "output_df"
   ]
  },
  {
   "cell_type": "code",
   "execution_count": 84,
   "metadata": {},
   "outputs": [],
   "source": [
    "output_df['message_id'] = output_df['message_id'].map(str)\n",
    "output_df['kmeans_labels'] = output_df['kmeans_labels'].map(int)\n",
    "\n",
    "output_df = output_df.drop_duplicates(subset=['fr_id'])"
   ]
  },
  {
   "cell_type": "code",
   "execution_count": 85,
   "metadata": {},
   "outputs": [
    {
     "name": "stderr",
     "output_type": "stream",
     "text": [
      "/var/folders/_n/c17wd9k97s7dm583pk_qqyjh0000gn/T/ipykernel_12422/1785710592.py:1: SettingWithCopyWarning: \n",
      "A value is trying to be set on a copy of a slice from a DataFrame.\n",
      "Try using .loc[row_indexer,col_indexer] = value instead\n",
      "\n",
      "See the caveats in the documentation: https://pandas.pydata.org/pandas-docs/stable/user_guide/indexing.html#returning-a-view-versus-a-copy\n",
      "  output_df[\"fr_id\"] = output_df.apply(lambda x: f\"{x['message_id']}{hash(x['fr'])}\", axis=1)\n"
     ]
    }
   ],
   "source": [
    "output_df[\"fr_id\"] = output_df.apply(lambda x: f\"{x['message_id']}{hash(x['fr'])}\", axis=1)"
   ]
  },
  {
   "cell_type": "code",
   "execution_count": 78,
   "metadata": {},
   "outputs": [],
   "source": [
    "output_dicts = output_df.to_dict(orient='records')"
   ]
  },
  {
   "cell_type": "code",
   "execution_count": 79,
   "metadata": {},
   "outputs": [],
   "source": [
    "for output_dict in output_dicts:\n",
    "    output_dict.update({'userId': \"110421822788553907926\"})"
   ]
  },
  {
   "cell_type": "code",
   "execution_count": 80,
   "metadata": {},
   "outputs": [
    {
     "data": {
      "text/plain": [
       "'10190620301766164583262674047531762287'"
      ]
     },
     "execution_count": 80,
     "metadata": {},
     "output_type": "execute_result"
    }
   ],
   "source": [
    "output_dicts[0]['fr_id']"
   ]
  },
  {
   "cell_type": "code",
   "execution_count": 81,
   "metadata": {},
   "outputs": [],
   "source": [
    "from prisma.models import FeatureRequest\n",
    "fr = output_df.iloc[0, :]\n",
    "\n",
    "# db = Prisma(auto_register=True)\n",
    "db = Prisma()\n",
    "await db.connect()\n",
    "\n",
    "batcher = db.batch_()\n",
    "for fr in output_dicts:\n",
    "    await FeatureRequest.prisma().upsert(\n",
    "        where={\n",
    "            \"fr_id\": fr[\"fr_id\"]\n",
    "        },\n",
    "        data = {\n",
    "            'create': {\n",
    "                \"fr_id\": fr[\"fr_id\"],\n",
    "                \"message_id\": str(fr[\"message_id\"]),\n",
    "                \"message\": fr[\"message\"],\n",
    "                \"created_at\": fr['created_at'],\n",
    "                \"author\": fr[\"author\"],\n",
    "                \"label\": fr[\"label\"],\n",
    "                \"fr\": fr['fr'],\n",
    "                \"kmeans_labels\": int(fr[\"kmeans_labels\"]),\n",
    "                \"userId\": \"110421822788553907926\"\n",
    "            },\n",
    "            'update': {\n",
    "                \"fr_id\": fr[\"fr_id\"],\n",
    "                \"message_id\": str(fr[\"message_id\"]),\n",
    "                \"message\": fr[\"message\"],\n",
    "                \"created_at\": fr['created_at'],\n",
    "                \"author\": fr[\"author\"],\n",
    "                \"label\": fr[\"label\"],\n",
    "                \"fr\": fr['fr'],\n",
    "                \"kmeans_labels\": int(fr[\"kmeans_labels\"]),\n",
    "                \"userId\": \"110421822788553907926\"\n",
    "            }\n",
    "        }\n",
    "    )\n",
    "await batcher.commit()\n",
    "\n",
    "await db.disconnect()"
   ]
  },
  {
   "cell_type": "code",
   "execution_count": null,
   "metadata": {},
   "outputs": [],
   "source": []
  }
 ],
 "metadata": {
  "kernelspec": {
   "display_name": "Python 3.9.13 64-bit",
   "language": "python",
   "name": "python3"
  },
  "language_info": {
   "codemirror_mode": {
    "name": "ipython",
    "version": 3
   },
   "file_extension": ".py",
   "mimetype": "text/x-python",
   "name": "python",
   "nbconvert_exporter": "python",
   "pygments_lexer": "ipython3",
   "version": "3.9.13"
  },
  "orig_nbformat": 4,
  "vscode": {
   "interpreter": {
    "hash": "b0fa6594d8f4cbf19f97940f81e996739fb7646882a419484c72d19e05852a7e"
   }
  }
 },
 "nbformat": 4,
 "nbformat_minor": 2
}
